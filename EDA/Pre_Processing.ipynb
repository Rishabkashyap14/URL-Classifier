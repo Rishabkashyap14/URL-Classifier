{
 "cells": [
  {
   "cell_type": "markdown",
   "metadata": {
    "id": "j0iN56gvh9o0"
   },
   "source": [
    "# Exploratory Data Analysis"
   ]
  },
  {
   "cell_type": "code",
   "execution_count": 1,
   "metadata": {
    "id": "2VPBCD0Eh9o4"
   },
   "outputs": [],
   "source": [
    "import time\n",
    "import pandas as pd\n",
    "import numpy as np\n",
    "import matplotlib.pyplot as plt\n",
    "import plotly.express as px\n",
    "import requests\n",
    "import collections \n",
    "from collections import defaultdict\n",
    "from bs4 import BeautifulSoup\n",
    "import urllib3\n",
    "urllib3.disable_warnings()\n",
    "from urllib3 import request\n",
    "from urllib.parse import urlparse\n",
    "plt.style.use(\"fivethirtyeight\")\n",
    "import seaborn as sn"
   ]
  },
  {
   "cell_type": "markdown",
   "metadata": {
    "id": "tJ3H94i1h9o5"
   },
   "source": [
    "## Importing data"
   ]
  },
  {
   "cell_type": "code",
   "execution_count": 2,
   "metadata": {
    "colab": {
     "base_uri": "https://localhost:8080/"
    },
    "id": "zZkUZ6mjh9o6",
    "outputId": "a8be8a9a-386e-4e27-8981-02afd0177033"
   },
   "outputs": [
    {
     "data": {
      "text/plain": [
       "Index(['Unnamed: 0', 'URL', 'Result'], dtype='object')"
      ]
     },
     "execution_count": 2,
     "metadata": {},
     "output_type": "execute_result"
    }
   ],
   "source": [
    "df = pd.read_csv('URL_dataset.csv')\n",
    "df.columns"
   ]
  },
  {
   "cell_type": "code",
   "execution_count": 3,
   "metadata": {},
   "outputs": [],
   "source": [
    "def get_position(df):\n",
    "    for i in range(len(df)):\n",
    "        if(df['Result'][i] == 1):\n",
    "            return i"
   ]
  },
  {
   "cell_type": "code",
   "execution_count": 4,
   "metadata": {},
   "outputs": [
    {
     "data": {
      "text/plain": [
       "135135"
      ]
     },
     "execution_count": 4,
     "metadata": {},
     "output_type": "execute_result"
    }
   ],
   "source": [
    "get_position(df)"
   ]
  },
  {
   "cell_type": "code",
   "execution_count": 5,
   "metadata": {},
   "outputs": [
    {
     "data": {
      "text/html": [
       "<div>\n",
       "<style scoped>\n",
       "    .dataframe tbody tr th:only-of-type {\n",
       "        vertical-align: middle;\n",
       "    }\n",
       "\n",
       "    .dataframe tbody tr th {\n",
       "        vertical-align: top;\n",
       "    }\n",
       "\n",
       "    .dataframe thead th {\n",
       "        text-align: right;\n",
       "    }\n",
       "</style>\n",
       "<table border=\"1\" class=\"dataframe\">\n",
       "  <thead>\n",
       "    <tr style=\"text-align: right;\">\n",
       "      <th></th>\n",
       "      <th>Unnamed: 0</th>\n",
       "      <th>URL</th>\n",
       "      <th>Result</th>\n",
       "    </tr>\n",
       "  </thead>\n",
       "  <tbody>\n",
       "    <tr>\n",
       "      <th>135135</th>\n",
       "      <td>135135</td>\n",
       "      <td>sinduscongoias.com.br/index.html</td>\n",
       "      <td>1</td>\n",
       "    </tr>\n",
       "    <tr>\n",
       "      <th>135136</th>\n",
       "      <td>135136</td>\n",
       "      <td>sinduscongoias.com.br/index.php/institucional.1</td>\n",
       "      <td>1</td>\n",
       "    </tr>\n",
       "    <tr>\n",
       "      <th>135137</th>\n",
       "      <td>135137</td>\n",
       "      <td>sinduscongoias.com.br/index.php/institucional/...</td>\n",
       "      <td>1</td>\n",
       "    </tr>\n",
       "    <tr>\n",
       "      <th>135138</th>\n",
       "      <td>135138</td>\n",
       "      <td>sinduscongoias.com.br/index.php/institucional/...</td>\n",
       "      <td>1</td>\n",
       "    </tr>\n",
       "    <tr>\n",
       "      <th>135139</th>\n",
       "      <td>135139</td>\n",
       "      <td>sinduscongoias.com.br/index.php/institucional/...</td>\n",
       "      <td>1</td>\n",
       "    </tr>\n",
       "    <tr>\n",
       "      <th>...</th>\n",
       "      <td>...</td>\n",
       "      <td>...</td>\n",
       "      <td>...</td>\n",
       "    </tr>\n",
       "    <tr>\n",
       "      <th>295359</th>\n",
       "      <td>295359</td>\n",
       "      <td>data-account-update.com</td>\n",
       "      <td>1</td>\n",
       "    </tr>\n",
       "    <tr>\n",
       "      <th>295360</th>\n",
       "      <td>295360</td>\n",
       "      <td>eleanorteddie.ru</td>\n",
       "      <td>1</td>\n",
       "    </tr>\n",
       "    <tr>\n",
       "      <th>295361</th>\n",
       "      <td>295361</td>\n",
       "      <td>greatcareson.info</td>\n",
       "      <td>1</td>\n",
       "    </tr>\n",
       "    <tr>\n",
       "      <th>295362</th>\n",
       "      <td>295362</td>\n",
       "      <td>blowsfactor.info</td>\n",
       "      <td>1</td>\n",
       "    </tr>\n",
       "    <tr>\n",
       "      <th>295363</th>\n",
       "      <td>295363</td>\n",
       "      <td>toppharmacy02.su</td>\n",
       "      <td>1</td>\n",
       "    </tr>\n",
       "  </tbody>\n",
       "</table>\n",
       "<p>160229 rows × 3 columns</p>\n",
       "</div>"
      ],
      "text/plain": [
       "        Unnamed: 0                                                URL  Result\n",
       "135135      135135                   sinduscongoias.com.br/index.html       1\n",
       "135136      135136    sinduscongoias.com.br/index.php/institucional.1       1\n",
       "135137      135137  sinduscongoias.com.br/index.php/institucional/...       1\n",
       "135138      135138  sinduscongoias.com.br/index.php/institucional/...       1\n",
       "135139      135139  sinduscongoias.com.br/index.php/institucional/...       1\n",
       "...            ...                                                ...     ...\n",
       "295359      295359                           data-account-update.com        1\n",
       "295360      295360                                  eleanorteddie.ru        1\n",
       "295361      295361                                 greatcareson.info        1\n",
       "295362      295362                                  blowsfactor.info        1\n",
       "295363      295363                                  toppharmacy02.su        1\n",
       "\n",
       "[160229 rows x 3 columns]"
      ]
     },
     "execution_count": 5,
     "metadata": {},
     "output_type": "execute_result"
    }
   ],
   "source": [
    "Mal = df.iloc[135135:,:]\n",
    "Mal"
   ]
  },
  {
   "cell_type": "code",
   "execution_count": 4,
   "metadata": {
    "colab": {
     "base_uri": "https://localhost:8080/"
    },
    "id": "_FpV_e4Ch9o8",
    "outputId": "caa8d13f-1f5a-4343-a386-5ee16d7102d4"
   },
   "outputs": [
    {
     "data": {
      "text/plain": [
       "295364"
      ]
     },
     "execution_count": 4,
     "metadata": {},
     "output_type": "execute_result"
    }
   ],
   "source": [
    "len(df)"
   ]
  },
  {
   "cell_type": "code",
   "execution_count": 5,
   "metadata": {
    "scrolled": true
   },
   "outputs": [
    {
     "data": {
      "text/html": [
       "<div>\n",
       "<style scoped>\n",
       "    .dataframe tbody tr th:only-of-type {\n",
       "        vertical-align: middle;\n",
       "    }\n",
       "\n",
       "    .dataframe tbody tr th {\n",
       "        vertical-align: top;\n",
       "    }\n",
       "\n",
       "    .dataframe thead th {\n",
       "        text-align: right;\n",
       "    }\n",
       "</style>\n",
       "<table border=\"1\" class=\"dataframe\">\n",
       "  <thead>\n",
       "    <tr style=\"text-align: right;\">\n",
       "      <th></th>\n",
       "      <th>Unnamed: 0</th>\n",
       "      <th>URL</th>\n",
       "      <th>Result</th>\n",
       "    </tr>\n",
       "  </thead>\n",
       "  <tbody>\n",
       "    <tr>\n",
       "      <th>0</th>\n",
       "      <td>0</td>\n",
       "      <td>1337x.to/torrent/1048648/American-Sniper-2014-...</td>\n",
       "      <td>0</td>\n",
       "    </tr>\n",
       "    <tr>\n",
       "      <th>1</th>\n",
       "      <td>1</td>\n",
       "      <td>1337x.to/torrent/1110018/Blackhat-2015-RUSSIAN...</td>\n",
       "      <td>0</td>\n",
       "    </tr>\n",
       "    <tr>\n",
       "      <th>2</th>\n",
       "      <td>2</td>\n",
       "      <td>1337x.to/torrent/1122940/Blackhat-2015-x264-10...</td>\n",
       "      <td>0</td>\n",
       "    </tr>\n",
       "    <tr>\n",
       "      <th>3</th>\n",
       "      <td>3</td>\n",
       "      <td>1337x.to/torrent/1124395/Fast-and-Furious-7-20...</td>\n",
       "      <td>0</td>\n",
       "    </tr>\n",
       "    <tr>\n",
       "      <th>4</th>\n",
       "      <td>4</td>\n",
       "      <td>1337x.to/torrent/1145504/Avengers-Age-of-Ultro...</td>\n",
       "      <td>0</td>\n",
       "    </tr>\n",
       "    <tr>\n",
       "      <th>...</th>\n",
       "      <td>...</td>\n",
       "      <td>...</td>\n",
       "      <td>...</td>\n",
       "    </tr>\n",
       "    <tr>\n",
       "      <th>295359</th>\n",
       "      <td>295359</td>\n",
       "      <td>data-account-update.com</td>\n",
       "      <td>1</td>\n",
       "    </tr>\n",
       "    <tr>\n",
       "      <th>295360</th>\n",
       "      <td>295360</td>\n",
       "      <td>eleanorteddie.ru</td>\n",
       "      <td>1</td>\n",
       "    </tr>\n",
       "    <tr>\n",
       "      <th>295361</th>\n",
       "      <td>295361</td>\n",
       "      <td>greatcareson.info</td>\n",
       "      <td>1</td>\n",
       "    </tr>\n",
       "    <tr>\n",
       "      <th>295362</th>\n",
       "      <td>295362</td>\n",
       "      <td>blowsfactor.info</td>\n",
       "      <td>1</td>\n",
       "    </tr>\n",
       "    <tr>\n",
       "      <th>295363</th>\n",
       "      <td>295363</td>\n",
       "      <td>toppharmacy02.su</td>\n",
       "      <td>1</td>\n",
       "    </tr>\n",
       "  </tbody>\n",
       "</table>\n",
       "<p>295364 rows × 3 columns</p>\n",
       "</div>"
      ],
      "text/plain": [
       "        Unnamed: 0                                                URL  Result\n",
       "0                0  1337x.to/torrent/1048648/American-Sniper-2014-...       0\n",
       "1                1  1337x.to/torrent/1110018/Blackhat-2015-RUSSIAN...       0\n",
       "2                2  1337x.to/torrent/1122940/Blackhat-2015-x264-10...       0\n",
       "3                3  1337x.to/torrent/1124395/Fast-and-Furious-7-20...       0\n",
       "4                4  1337x.to/torrent/1145504/Avengers-Age-of-Ultro...       0\n",
       "...            ...                                                ...     ...\n",
       "295359      295359                           data-account-update.com        1\n",
       "295360      295360                                  eleanorteddie.ru        1\n",
       "295361      295361                                 greatcareson.info        1\n",
       "295362      295362                                  blowsfactor.info        1\n",
       "295363      295363                                  toppharmacy02.su        1\n",
       "\n",
       "[295364 rows x 3 columns]"
      ]
     },
     "execution_count": 5,
     "metadata": {},
     "output_type": "execute_result"
    }
   ],
   "source": [
    "df"
   ]
  },
  {
   "cell_type": "markdown",
   "metadata": {
    "id": "YFKKJUWDh9o9"
   },
   "source": [
    "## Testing for each attribute"
   ]
  },
  {
   "cell_type": "code",
   "execution_count": 147,
   "metadata": {},
   "outputs": [],
   "source": [
    "import urllib\n",
    "Decoded_URL = list()\n",
    "for i in range(len(df['URL'])):\n",
    "    decoded_url = urllib.parse.unquote(df['URL'][i])\n",
    "    Decoded_URL.append(decoded_url)"
   ]
  },
  {
   "cell_type": "code",
   "execution_count": 148,
   "metadata": {
    "id": "f--nP4EpijQJ"
   },
   "outputs": [
    {
     "name": "stdout",
     "output_type": "stream",
     "text": [
      "['http://nipponimportsltd.com/Images/same/index (3).php', 'http://winetimefinally.com/Linked/linkedIn/linkedIn (1)/linkedIn (1)/LinkedIn.html', 'https://winetimefinally.com/LinkedIn/linkedIn/linkedIn (1)/linkedIn (1)/LinkedIn.html', 'http://tshirtsforautism.com/fn/index (4).php'] 4\n"
     ]
    }
   ],
   "source": [
    "BracketRound = list ()\n",
    "for i in Decoded_URL:\n",
    "    if(\"(\" in i):\n",
    "        BracketRound.append(i)\n",
    "print(BracketRound, len(BracketRound))"
   ]
  },
  {
   "cell_type": "code",
   "execution_count": 149,
   "metadata": {
    "id": "eOs-UBmbi32P"
   },
   "outputs": [],
   "source": [
    "BracketCurly = list ()\n",
    "for i in Decoded_URL:\n",
    "    if(\"{\" in i):\n",
    "        BracketCurly.append(i)"
   ]
  },
  {
   "cell_type": "code",
   "execution_count": 150,
   "metadata": {
    "id": "_mw63ojrjQSS"
   },
   "outputs": [],
   "source": [
    "BracketSquare = list ()\n",
    "for i in Decoded_URL:\n",
    "    if('[' in i):\n",
    "        BracketSquare.append(i)"
   ]
  },
  {
   "cell_type": "code",
   "execution_count": 151,
   "metadata": {
    "id": "SA33ZQkOlK0j"
   },
   "outputs": [],
   "source": [
    "BracketAngular = list ()\n",
    "for i in Decoded_URL:\n",
    "    if('<' in i):\n",
    "        BracketAngular.append(i)"
   ]
  },
  {
   "cell_type": "code",
   "execution_count": 152,
   "metadata": {
    "id": "00wAW0w-lGj6"
   },
   "outputs": [],
   "source": [
    "BracketRoundClose = list ()\n",
    "for i in Decoded_URL:\n",
    "    if(\")\" in i):\n",
    "        BracketRoundClose.append(i)"
   ]
  },
  {
   "cell_type": "code",
   "execution_count": 153,
   "metadata": {
    "id": "Tzucol_nlccr"
   },
   "outputs": [],
   "source": [
    "BracketCurlyClose = list ()\n",
    "for i in Decoded_URL:\n",
    "    if(\"}\" in i):\n",
    "        BracketCurlyClose.append(i)"
   ]
  },
  {
   "cell_type": "code",
   "execution_count": 154,
   "metadata": {
    "id": "23tjANhLlkKq"
   },
   "outputs": [],
   "source": [
    "BracketSquareClose = list ()\n",
    "for i in Decoded_URL:\n",
    "    if(']' in i):\n",
    "        BracketSquareClose.append(i)"
   ]
  },
  {
   "cell_type": "code",
   "execution_count": 155,
   "metadata": {
    "id": "JghbFtS3lox_"
   },
   "outputs": [],
   "source": [
    "BracketAngularClose = list ()\n",
    "for i in Decoded_URL:\n",
    "    if('>' in i):\n",
    "        BracketAngularClose.append(i)"
   ]
  },
  {
   "cell_type": "code",
   "execution_count": 156,
   "metadata": {
    "id": "TZR3d71kh9o9"
   },
   "outputs": [],
   "source": [
    "AND = list ()\n",
    "for i in Decoded_URL:\n",
    "    if(\"&\" in i):\n",
    "        AND.append(i)"
   ]
  },
  {
   "cell_type": "code",
   "execution_count": 157,
   "metadata": {
    "id": "l5aNdHxAh9o-"
   },
   "outputs": [],
   "source": [
    "Question = list ()\n",
    "for i in Decoded_URL:\n",
    "    if(\"?\" in i):\n",
    "        Question.append(i)"
   ]
  },
  {
   "cell_type": "code",
   "execution_count": 158,
   "metadata": {
    "id": "rmYAM2yPh9o-"
   },
   "outputs": [],
   "source": [
    "Colon = list()\n",
    "for i in Decoded_URL:\n",
    "    if(i.count(':') > 1):\n",
    "        Colon.append(i)"
   ]
  },
  {
   "cell_type": "code",
   "execution_count": 159,
   "metadata": {
    "id": "ridHcoU5h9o_"
   },
   "outputs": [],
   "source": [
    "Exclaim = list()\n",
    "for i in Decoded_URL:\n",
    "    if(\"!\" in i):\n",
    "        Exclaim.append(i)"
   ]
  },
  {
   "cell_type": "code",
   "execution_count": 160,
   "metadata": {
    "id": "ODaPT9Dvh9o_"
   },
   "outputs": [],
   "source": [
    "def extract_domain(u):\n",
    "    domain = urlparse(u).netloc\n",
    "    return domain"
   ]
  },
  {
   "cell_type": "code",
   "execution_count": 161,
   "metadata": {
    "id": "gLM8KQtMh9pA"
   },
   "outputs": [],
   "source": [
    "domains=[]\n",
    "for i in df.URL:\n",
    "    domains.append(extract_domain(i))"
   ]
  },
  {
   "cell_type": "markdown",
   "metadata": {
    "id": "x4E7C2aCaa-p"
   },
   "source": [
    "Prefix/Suffix in the domain name i.e. hyphen in the domains"
   ]
  },
  {
   "cell_type": "code",
   "execution_count": 162,
   "metadata": {
    "id": "z-rD1jXIh9pA"
   },
   "outputs": [],
   "source": [
    "Hyphen = list()\n",
    "for i in df.index:\n",
    "    if(\"-\" in domains[i]):\n",
    "        Hyphen.append(df['URL'][i])"
   ]
  },
  {
   "cell_type": "code",
   "execution_count": 163,
   "metadata": {
    "id": "bA1uJTbXh9pB"
   },
   "outputs": [],
   "source": [
    "Uscore = list()\n",
    "for i in Decoded_URL:\n",
    "    if(\"_\" in i):\n",
    "        Uscore.append(i)"
   ]
  },
  {
   "cell_type": "code",
   "execution_count": 164,
   "metadata": {
    "id": "U2lyDPafh9pB"
   },
   "outputs": [],
   "source": [
    "Hash = list()\n",
    "for i in Decoded_URL:\n",
    "    if(\"#\" in i):\n",
    "        Hash.append(i)"
   ]
  },
  {
   "cell_type": "code",
   "execution_count": 165,
   "metadata": {
    "id": "FG4D2Lmgh9pC"
   },
   "outputs": [],
   "source": [
    "AT = list()\n",
    "for i in Decoded_URL:\n",
    "    if(\"@\" in i):\n",
    "        AT.append(i)"
   ]
  },
  {
   "cell_type": "code",
   "execution_count": 166,
   "metadata": {
    "id": "NwXOKL9Eh9pC"
   },
   "outputs": [],
   "source": [
    "Dslash = list()\n",
    "for i in Decoded_URL:\n",
    "    if(i.count('//') > 1):\n",
    "        Dslash.append(i)"
   ]
  },
  {
   "cell_type": "code",
   "execution_count": 167,
   "metadata": {
    "id": "t-TioQuDh9pC"
   },
   "outputs": [],
   "source": [
    "Dots = list()\n",
    "for i in df.index:\n",
    "    if(domains[i].count('.') > 2):\n",
    "        Dots.append(df['URL'][i])"
   ]
  },
  {
   "cell_type": "code",
   "execution_count": 168,
   "metadata": {},
   "outputs": [],
   "source": [
    "Space = list()\n",
    "for i in Decoded_URL:\n",
    "    if(i.count(' ') > 1):\n",
    "        Space.append(i)"
   ]
  },
  {
   "cell_type": "code",
   "execution_count": 169,
   "metadata": {},
   "outputs": [],
   "source": [
    "Dollar = list()\n",
    "for i in Decoded_URL:\n",
    "    if(\"$\" in i):\n",
    "        Dollar.append(i)"
   ]
  },
  {
   "cell_type": "code",
   "execution_count": 170,
   "metadata": {},
   "outputs": [],
   "source": [
    "Plus = list()\n",
    "for i in Decoded_URL:\n",
    "    if(\"+\" in i):\n",
    "        Plus.append(i)"
   ]
  },
  {
   "cell_type": "code",
   "execution_count": 171,
   "metadata": {},
   "outputs": [],
   "source": [
    "Star = list()\n",
    "for i in Decoded_URL:\n",
    "    if(\"*\" in i):\n",
    "        Star.append(i)"
   ]
  },
  {
   "cell_type": "code",
   "execution_count": 172,
   "metadata": {},
   "outputs": [],
   "source": [
    "Comma = list()\n",
    "for i in Decoded_URL:\n",
    "    if(\",\" in i):\n",
    "        Comma.append(i)"
   ]
  },
  {
   "cell_type": "code",
   "execution_count": 173,
   "metadata": {},
   "outputs": [],
   "source": [
    "SemiColon = list()\n",
    "for i in Decoded_URL:\n",
    "    if(\";\" in i):\n",
    "        SemiColon.append(i)"
   ]
  },
  {
   "cell_type": "code",
   "execution_count": 174,
   "metadata": {},
   "outputs": [],
   "source": [
    "Bslash = list()\n",
    "for i in Decoded_URL:\n",
    "    if('\\\\' in i):\n",
    "        Bslash.append(i)"
   ]
  },
  {
   "cell_type": "code",
   "execution_count": 175,
   "metadata": {},
   "outputs": [],
   "source": [
    "Sinv = list()\n",
    "for i in Decoded_URL:\n",
    "    if('\\'' in i):\n",
    "        Sinv.append(i)"
   ]
  },
  {
   "cell_type": "code",
   "execution_count": 176,
   "metadata": {},
   "outputs": [],
   "source": [
    "Dinv = list()\n",
    "for i in Decoded_URL:\n",
    "    if('\\\"' in i):\n",
    "        Dinv.append(i)"
   ]
  },
  {
   "cell_type": "code",
   "execution_count": 177,
   "metadata": {},
   "outputs": [],
   "source": [
    "Or = list()\n",
    "for i in Decoded_URL:\n",
    "    if('^' in i):\n",
    "        Or.append(i)"
   ]
  },
  {
   "cell_type": "code",
   "execution_count": 178,
   "metadata": {},
   "outputs": [],
   "source": [
    "Tilde = list()\n",
    "for i in Decoded_URL:\n",
    "    if('~' in i):\n",
    "        Tilde.append(i)"
   ]
  },
  {
   "cell_type": "code",
   "execution_count": 179,
   "metadata": {},
   "outputs": [],
   "source": [
    "Equals = list()\n",
    "for i in Decoded_URL:\n",
    "    if('=' in i):\n",
    "        Equals.append(i)"
   ]
  },
  {
   "cell_type": "markdown",
   "metadata": {
    "id": "yJQOMROgh9pC"
   },
   "source": [
    "## Plotting results"
   ]
  },
  {
   "cell_type": "code",
   "execution_count": 180,
   "metadata": {
    "colab": {
     "base_uri": "https://localhost:8080/",
     "height": 282
    },
    "id": "74x_kux4h9pD",
    "outputId": "57561adc-768e-4a69-a8b6-96db7b0d0c9c"
   },
   "outputs": [
    {
     "data": {
      "image/png": "[encoded data removed]",
      "text/plain": [
       "<Figure size 432x288 with 1 Axes>"
      ]
     },
     "metadata": {},
     "output_type": "display_data"
    }
   ],
   "source": [
    "labels = ['(','{','[','<',')','}',']','>','&', '?', ':', '!', '-', '_', '~','#', '@', '//', '.', 'S', '$', '+', '*', ',', ';', '\\\\', '\\'', '\\\"', '^', '=']\n",
    "lengths = [len(BracketRound),len(BracketCurly),len(BracketSquare),len(BracketAngular),\n",
    "           len(BracketRoundClose),len(BracketCurlyClose),len(BracketSquareClose),len(BracketAngularClose),\n",
    "           len(AND), len(Question), len(Colon), len(Exclaim), len(Hyphen), len(Uscore), len(Tilde),\n",
    "           len(Hash), len(AT), len(Dslash), len(Dots), len(Space), len(Dollar), len(Plus), len(Star), \n",
    "           len(Comma), len(SemiColon), len(Bslash), len(Sinv), len(Dinv), len(Or), len(Equals)]\n",
    "plt.barh(labels, lengths)\n",
    "for index, value in enumerate(lengths):\n",
    "    plt.text(value, index, str(value))"
   ]
  },
  {
   "cell_type": "code",
   "execution_count": 43,
   "metadata": {},
   "outputs": [
    {
     "name": "stdout",
     "output_type": "stream",
     "text": [
      "(  :  3.1833092728207464e-06\n",
      "{  :  1.5916546364103732e-06\n",
      "[  :  6.366618545641493e-06\n",
      "<  :  7.958273182051866e-07\n",
      ")  :  3.1833092728207464e-06\n",
      "}  :  1.5916546364103732e-06\n",
      "]  :  6.366618545641493e-06\n",
      ">  :  7.958273182051866e-07\n",
      "&  :  0.00022123999446104186\n",
      "?  :  0.0004790880455595223\n",
      ":  :  2.6262301500771157e-05\n",
      "!  :  7.958273182051866e-07\n",
      "-  :  0.0005857289061990173\n",
      "_  :  0.0003191267546002798\n",
      "~  :  8.754100500257052e-06\n"
     ]
    }
   ],
   "source": [
    "DATACSV = list()\n",
    "for i in range(len(lengths)):\n",
    "    print(labels[i],\" : \", lengths[i]/1256554)\n",
    "    DATACSV.append(lengths[i]/1256554)"
   ]
  },
  {
   "cell_type": "code",
   "execution_count": 44,
   "metadata": {},
   "outputs": [
    {
     "data": {
      "image/png": "[encoded data removed]",
      "text/plain": [
       "<Figure size 432x288 with 1 Axes>"
      ]
     },
     "metadata": {},
     "output_type": "display_data"
    }
   ],
   "source": [
    "labels = ['#', '@', '//', '.', 'S', '$', '+', '*', ',', ';', '\\\\', '\\'', '\\\"', '^', '=']\n",
    "lengths = [len(Hash), len(AT),\n",
    "           len(Dslash), len(Dots), len(Space), len(Dollar), len(Plus), len(Star), len(Comma), len(SemiColon), \n",
    "           len(Bslash), len(Sinv), len(Dinv), len(Or), len(Equals)]\n",
    "plt.barh(labels, lengths)\n",
    "for index, value in enumerate(lengths):\n",
    "    plt.text(value, index, str(value))"
   ]
  },
  {
   "cell_type": "code",
   "execution_count": 140,
   "metadata": {},
   "outputs": [],
   "source": [
    "# labels = ['(','{','[','<',')','}',']','>','&', '?', ':', '!', '-', '_', '~','#', '@', '//', '.', 'S'\n",
    "#, '$', '+', '*', ',', ';', '\\\\', '\\'', '\\\"', '^', '=']\n",
    "Labels = ['OpenBracket', 'OpenFlower', 'OpenSquare',\n",
    "       'OpenAngular', 'CloseBracket', 'CloseFlower', 'CloseSquare',\n",
    "       'CloseAngular', 'And', 'Question', 'Colon', 'Exclamation', 'Hyphen',\n",
    "       'Underscore', 'Tilde', 'Hash', 'At', 'DoubleSlash', 'Dot', 'Spaces',\n",
    "       'Dollar', 'plus', 'Star', 'Comma', 'SemiColon', 'Backslash',\n",
    "       'SingleInverted', 'DoubleInverted', 'Or', 'Equals']\n",
    "for label in range(len(labels)):\n",
    "    List_sym = list()\n",
    "    for i in Decoded_URL:\n",
    "        List_sym.append(i.count(labels[label]))\n",
    "    df[Labels[label]] = List_sym"
   ]
  },
  {
   "cell_type": "code",
   "execution_count": 141,
   "metadata": {},
   "outputs": [
    {
     "data": {
      "text/html": [
       "<div>\n",
       "<style scoped>\n",
       "    .dataframe tbody tr th:only-of-type {\n",
       "        vertical-align: middle;\n",
       "    }\n",
       "\n",
       "    .dataframe tbody tr th {\n",
       "        vertical-align: top;\n",
       "    }\n",
       "\n",
       "    .dataframe thead th {\n",
       "        text-align: right;\n",
       "    }\n",
       "</style>\n",
       "<table border=\"1\" class=\"dataframe\">\n",
       "  <thead>\n",
       "    <tr style=\"text-align: right;\">\n",
       "      <th></th>\n",
       "      <th>Unnamed: 0</th>\n",
       "      <th>URL</th>\n",
       "      <th>Result</th>\n",
       "      <th>OpenBracket</th>\n",
       "      <th>OpenFlower</th>\n",
       "      <th>OpenSquare</th>\n",
       "      <th>OpenAngular</th>\n",
       "      <th>CloseBracket</th>\n",
       "      <th>CloseFlower</th>\n",
       "      <th>CloseSquare</th>\n",
       "      <th>...</th>\n",
       "      <th>Dollar</th>\n",
       "      <th>plus</th>\n",
       "      <th>Star</th>\n",
       "      <th>Comma</th>\n",
       "      <th>SemiColon</th>\n",
       "      <th>Backslash</th>\n",
       "      <th>SingleInverted</th>\n",
       "      <th>DoubleInverted</th>\n",
       "      <th>Or</th>\n",
       "      <th>Equals</th>\n",
       "    </tr>\n",
       "  </thead>\n",
       "  <tbody>\n",
       "    <tr>\n",
       "      <th>0</th>\n",
       "      <td>0</td>\n",
       "      <td>1337x.to/torrent/1048648/American-Sniper-2014-...</td>\n",
       "      <td>0</td>\n",
       "      <td>0</td>\n",
       "      <td>0</td>\n",
       "      <td>0</td>\n",
       "      <td>0</td>\n",
       "      <td>0</td>\n",
       "      <td>0</td>\n",
       "      <td>0</td>\n",
       "      <td>...</td>\n",
       "      <td>0</td>\n",
       "      <td>0</td>\n",
       "      <td>0</td>\n",
       "      <td>0</td>\n",
       "      <td>0</td>\n",
       "      <td>0</td>\n",
       "      <td>0</td>\n",
       "      <td>0</td>\n",
       "      <td>0</td>\n",
       "      <td>0</td>\n",
       "    </tr>\n",
       "    <tr>\n",
       "      <th>1</th>\n",
       "      <td>1</td>\n",
       "      <td>1337x.to/torrent/1110018/Blackhat-2015-RUSSIAN...</td>\n",
       "      <td>0</td>\n",
       "      <td>0</td>\n",
       "      <td>0</td>\n",
       "      <td>0</td>\n",
       "      <td>0</td>\n",
       "      <td>0</td>\n",
       "      <td>0</td>\n",
       "      <td>0</td>\n",
       "      <td>...</td>\n",
       "      <td>0</td>\n",
       "      <td>0</td>\n",
       "      <td>0</td>\n",
       "      <td>0</td>\n",
       "      <td>0</td>\n",
       "      <td>0</td>\n",
       "      <td>0</td>\n",
       "      <td>0</td>\n",
       "      <td>0</td>\n",
       "      <td>0</td>\n",
       "    </tr>\n",
       "    <tr>\n",
       "      <th>2</th>\n",
       "      <td>2</td>\n",
       "      <td>1337x.to/torrent/1122940/Blackhat-2015-x264-10...</td>\n",
       "      <td>0</td>\n",
       "      <td>0</td>\n",
       "      <td>0</td>\n",
       "      <td>0</td>\n",
       "      <td>0</td>\n",
       "      <td>0</td>\n",
       "      <td>0</td>\n",
       "      <td>0</td>\n",
       "      <td>...</td>\n",
       "      <td>0</td>\n",
       "      <td>0</td>\n",
       "      <td>0</td>\n",
       "      <td>0</td>\n",
       "      <td>0</td>\n",
       "      <td>0</td>\n",
       "      <td>0</td>\n",
       "      <td>0</td>\n",
       "      <td>0</td>\n",
       "      <td>0</td>\n",
       "    </tr>\n",
       "    <tr>\n",
       "      <th>3</th>\n",
       "      <td>3</td>\n",
       "      <td>1337x.to/torrent/1124395/Fast-and-Furious-7-20...</td>\n",
       "      <td>0</td>\n",
       "      <td>0</td>\n",
       "      <td>0</td>\n",
       "      <td>0</td>\n",
       "      <td>0</td>\n",
       "      <td>0</td>\n",
       "      <td>0</td>\n",
       "      <td>0</td>\n",
       "      <td>...</td>\n",
       "      <td>0</td>\n",
       "      <td>0</td>\n",
       "      <td>0</td>\n",
       "      <td>0</td>\n",
       "      <td>0</td>\n",
       "      <td>0</td>\n",
       "      <td>0</td>\n",
       "      <td>0</td>\n",
       "      <td>0</td>\n",
       "      <td>0</td>\n",
       "    </tr>\n",
       "    <tr>\n",
       "      <th>4</th>\n",
       "      <td>4</td>\n",
       "      <td>1337x.to/torrent/1145504/Avengers-Age-of-Ultro...</td>\n",
       "      <td>0</td>\n",
       "      <td>0</td>\n",
       "      <td>0</td>\n",
       "      <td>0</td>\n",
       "      <td>0</td>\n",
       "      <td>0</td>\n",
       "      <td>0</td>\n",
       "      <td>0</td>\n",
       "      <td>...</td>\n",
       "      <td>0</td>\n",
       "      <td>0</td>\n",
       "      <td>0</td>\n",
       "      <td>0</td>\n",
       "      <td>0</td>\n",
       "      <td>0</td>\n",
       "      <td>0</td>\n",
       "      <td>0</td>\n",
       "      <td>0</td>\n",
       "      <td>0</td>\n",
       "    </tr>\n",
       "    <tr>\n",
       "      <th>...</th>\n",
       "      <td>...</td>\n",
       "      <td>...</td>\n",
       "      <td>...</td>\n",
       "      <td>...</td>\n",
       "      <td>...</td>\n",
       "      <td>...</td>\n",
       "      <td>...</td>\n",
       "      <td>...</td>\n",
       "      <td>...</td>\n",
       "      <td>...</td>\n",
       "      <td>...</td>\n",
       "      <td>...</td>\n",
       "      <td>...</td>\n",
       "      <td>...</td>\n",
       "      <td>...</td>\n",
       "      <td>...</td>\n",
       "      <td>...</td>\n",
       "      <td>...</td>\n",
       "      <td>...</td>\n",
       "      <td>...</td>\n",
       "      <td>...</td>\n",
       "    </tr>\n",
       "    <tr>\n",
       "      <th>295359</th>\n",
       "      <td>295359</td>\n",
       "      <td>data-account-update.com</td>\n",
       "      <td>1</td>\n",
       "      <td>0</td>\n",
       "      <td>0</td>\n",
       "      <td>0</td>\n",
       "      <td>0</td>\n",
       "      <td>0</td>\n",
       "      <td>0</td>\n",
       "      <td>0</td>\n",
       "      <td>...</td>\n",
       "      <td>0</td>\n",
       "      <td>0</td>\n",
       "      <td>0</td>\n",
       "      <td>0</td>\n",
       "      <td>0</td>\n",
       "      <td>0</td>\n",
       "      <td>0</td>\n",
       "      <td>0</td>\n",
       "      <td>0</td>\n",
       "      <td>0</td>\n",
       "    </tr>\n",
       "    <tr>\n",
       "      <th>295360</th>\n",
       "      <td>295360</td>\n",
       "      <td>eleanorteddie.ru</td>\n",
       "      <td>1</td>\n",
       "      <td>0</td>\n",
       "      <td>0</td>\n",
       "      <td>0</td>\n",
       "      <td>0</td>\n",
       "      <td>0</td>\n",
       "      <td>0</td>\n",
       "      <td>0</td>\n",
       "      <td>...</td>\n",
       "      <td>0</td>\n",
       "      <td>0</td>\n",
       "      <td>0</td>\n",
       "      <td>0</td>\n",
       "      <td>0</td>\n",
       "      <td>0</td>\n",
       "      <td>0</td>\n",
       "      <td>0</td>\n",
       "      <td>0</td>\n",
       "      <td>0</td>\n",
       "    </tr>\n",
       "    <tr>\n",
       "      <th>295361</th>\n",
       "      <td>295361</td>\n",
       "      <td>greatcareson.info</td>\n",
       "      <td>1</td>\n",
       "      <td>0</td>\n",
       "      <td>0</td>\n",
       "      <td>0</td>\n",
       "      <td>0</td>\n",
       "      <td>0</td>\n",
       "      <td>0</td>\n",
       "      <td>0</td>\n",
       "      <td>...</td>\n",
       "      <td>0</td>\n",
       "      <td>0</td>\n",
       "      <td>0</td>\n",
       "      <td>0</td>\n",
       "      <td>0</td>\n",
       "      <td>0</td>\n",
       "      <td>0</td>\n",
       "      <td>0</td>\n",
       "      <td>0</td>\n",
       "      <td>0</td>\n",
       "    </tr>\n",
       "    <tr>\n",
       "      <th>295362</th>\n",
       "      <td>295362</td>\n",
       "      <td>blowsfactor.info</td>\n",
       "      <td>1</td>\n",
       "      <td>0</td>\n",
       "      <td>0</td>\n",
       "      <td>0</td>\n",
       "      <td>0</td>\n",
       "      <td>0</td>\n",
       "      <td>0</td>\n",
       "      <td>0</td>\n",
       "      <td>...</td>\n",
       "      <td>0</td>\n",
       "      <td>0</td>\n",
       "      <td>0</td>\n",
       "      <td>0</td>\n",
       "      <td>0</td>\n",
       "      <td>0</td>\n",
       "      <td>0</td>\n",
       "      <td>0</td>\n",
       "      <td>0</td>\n",
       "      <td>0</td>\n",
       "    </tr>\n",
       "    <tr>\n",
       "      <th>295363</th>\n",
       "      <td>295363</td>\n",
       "      <td>toppharmacy02.su</td>\n",
       "      <td>1</td>\n",
       "      <td>0</td>\n",
       "      <td>0</td>\n",
       "      <td>0</td>\n",
       "      <td>0</td>\n",
       "      <td>0</td>\n",
       "      <td>0</td>\n",
       "      <td>0</td>\n",
       "      <td>...</td>\n",
       "      <td>0</td>\n",
       "      <td>0</td>\n",
       "      <td>0</td>\n",
       "      <td>0</td>\n",
       "      <td>0</td>\n",
       "      <td>0</td>\n",
       "      <td>0</td>\n",
       "      <td>0</td>\n",
       "      <td>0</td>\n",
       "      <td>0</td>\n",
       "    </tr>\n",
       "  </tbody>\n",
       "</table>\n",
       "<p>295364 rows × 33 columns</p>\n",
       "</div>"
      ],
      "text/plain": [
       "        Unnamed: 0                                                URL  Result  \\\n",
       "0                0  1337x.to/torrent/1048648/American-Sniper-2014-...       0   \n",
       "1                1  1337x.to/torrent/1110018/Blackhat-2015-RUSSIAN...       0   \n",
       "2                2  1337x.to/torrent/1122940/Blackhat-2015-x264-10...       0   \n",
       "3                3  1337x.to/torrent/1124395/Fast-and-Furious-7-20...       0   \n",
       "4                4  1337x.to/torrent/1145504/Avengers-Age-of-Ultro...       0   \n",
       "...            ...                                                ...     ...   \n",
       "295359      295359                           data-account-update.com        1   \n",
       "295360      295360                                  eleanorteddie.ru        1   \n",
       "295361      295361                                 greatcareson.info        1   \n",
       "295362      295362                                  blowsfactor.info        1   \n",
       "295363      295363                                  toppharmacy02.su        1   \n",
       "\n",
       "        OpenBracket  OpenFlower  OpenSquare  OpenAngular  CloseBracket  \\\n",
       "0                 0           0           0            0             0   \n",
       "1                 0           0           0            0             0   \n",
       "2                 0           0           0            0             0   \n",
       "3                 0           0           0            0             0   \n",
       "4                 0           0           0            0             0   \n",
       "...             ...         ...         ...          ...           ...   \n",
       "295359            0           0           0            0             0   \n",
       "295360            0           0           0            0             0   \n",
       "295361            0           0           0            0             0   \n",
       "295362            0           0           0            0             0   \n",
       "295363            0           0           0            0             0   \n",
       "\n",
       "        CloseFlower  CloseSquare  ...  Dollar  plus  Star  Comma  SemiColon  \\\n",
       "0                 0            0  ...       0     0     0      0          0   \n",
       "1                 0            0  ...       0     0     0      0          0   \n",
       "2                 0            0  ...       0     0     0      0          0   \n",
       "3                 0            0  ...       0     0     0      0          0   \n",
       "4                 0            0  ...       0     0     0      0          0   \n",
       "...             ...          ...  ...     ...   ...   ...    ...        ...   \n",
       "295359            0            0  ...       0     0     0      0          0   \n",
       "295360            0            0  ...       0     0     0      0          0   \n",
       "295361            0            0  ...       0     0     0      0          0   \n",
       "295362            0            0  ...       0     0     0      0          0   \n",
       "295363            0            0  ...       0     0     0      0          0   \n",
       "\n",
       "        Backslash  SingleInverted  DoubleInverted  Or  Equals  \n",
       "0               0               0               0   0       0  \n",
       "1               0               0               0   0       0  \n",
       "2               0               0               0   0       0  \n",
       "3               0               0               0   0       0  \n",
       "4               0               0               0   0       0  \n",
       "...           ...             ...             ...  ..     ...  \n",
       "295359          0               0               0   0       0  \n",
       "295360          0               0               0   0       0  \n",
       "295361          0               0               0   0       0  \n",
       "295362          0               0               0   0       0  \n",
       "295363          0               0               0   0       0  \n",
       "\n",
       "[295364 rows x 33 columns]"
      ]
     },
     "execution_count": 141,
     "metadata": {},
     "output_type": "execute_result"
    }
   ],
   "source": [
    "df"
   ]
  },
  {
   "cell_type": "code",
   "execution_count": 142,
   "metadata": {},
   "outputs": [],
   "source": [
    "df.to_csv(\"URL_final.csv\")"
   ]
  },
  {
   "cell_type": "code",
   "execution_count": 45,
   "metadata": {},
   "outputs": [
    {
     "name": "stdout",
     "output_type": "stream",
     "text": [
      "#  :  6.366618545641493e-06\n",
      "@  :  7.958273182051865e-05\n",
      "//  :  1.2733237091282986e-05\n",
      ".  :  0.0003557348112377184\n",
      "S  :  1.7508201000514104e-05\n",
      "$  :  2.4670646864360785e-05\n",
      "+  :  3.1833092728207464e-06\n",
      "*  :  9.549927818462238e-06\n",
      ",  :  5.8891221547183806e-05\n",
      ";  :  0.00018304028318719292\n",
      "\\  :  0.0\n",
      "'  :  0.0\n",
      "\"  :  0.0\n",
      "^  :  0.0\n",
      "=  :  0.000533204303197475\n"
     ]
    }
   ],
   "source": [
    "for i in range(len(lengths)):\n",
    "    print(labels[i],\" : \", lengths[i]/1256554)\n",
    "    DMOZCSV.append(lengths[i]/1256554)"
   ]
  },
  {
   "cell_type": "code",
   "execution_count": 47,
   "metadata": {},
   "outputs": [
    {
     "name": "stdout",
     "output_type": "stream",
     "text": [
      "[3.1833092728207464e-06, 1.5916546364103732e-06, 6.366618545641493e-06, 7.958273182051866e-07, 3.1833092728207464e-06, 1.5916546364103732e-06, 6.366618545641493e-06, 7.958273182051866e-07, 0.00022123999446104186, 0.0004790880455595223, 2.6262301500771157e-05, 7.958273182051866e-07, 0.0005857289061990173, 0.0003191267546002798, 8.754100500257052e-06] \n",
      " [3.1833092728207464e-06, 1.5916546364103732e-06, 6.366618545641493e-06, 7.958273182051866e-07, 3.1833092728207464e-06, 1.5916546364103732e-06, 6.366618545641493e-06, 7.958273182051866e-07, 0.00022123999446104186, 0.0004790880455595223, 2.6262301500771157e-05, 7.958273182051866e-07, 0.0005857289061990173, 0.0003191267546002798, 8.754100500257052e-06, 6.366618545641493e-06, 7.958273182051865e-05, 1.2733237091282986e-05, 0.0003557348112377184, 1.7508201000514104e-05, 2.4670646864360785e-05, 3.1833092728207464e-06, 9.549927818462238e-06, 5.8891221547183806e-05, 0.00018304028318719292, 0.0, 0.0, 0.0, 0.0, 0.000533204303197475]\n"
     ]
    }
   ],
   "source": [
    "print(DATACSV, \"\\n\", DMOZCSV)"
   ]
  },
  {
   "cell_type": "code",
   "execution_count": 50,
   "metadata": {},
   "outputs": [
    {
     "name": "stdout",
     "output_type": "stream",
     "text": [
      "3.1833092728207464e-06 / 3.1833092728207464e-06 = 1.0\n",
      "1.5916546364103732e-06 / 1.5916546364103732e-06 = 1.0\n",
      "6.366618545641493e-06 / 6.366618545641493e-06 = 1.0\n",
      "7.958273182051866e-07 / 7.958273182051866e-07 = 1.0\n",
      "3.1833092728207464e-06 / 3.1833092728207464e-06 = 1.0\n",
      "1.5916546364103732e-06 / 1.5916546364103732e-06 = 1.0\n",
      "6.366618545641493e-06 / 6.366618545641493e-06 = 1.0\n",
      "7.958273182051866e-07 / 7.958273182051866e-07 = 1.0\n",
      "0.00022123999446104186 / 0.00022123999446104186 = 1.0\n",
      "0.0004790880455595223 / 0.0004790880455595223 = 1.0\n",
      "2.6262301500771157e-05 / 2.6262301500771157e-05 = 1.0\n",
      "7.958273182051866e-07 / 7.958273182051866e-07 = 1.0\n",
      "0.0005857289061990173 / 0.0005857289061990173 = 1.0\n",
      "0.0003191267546002798 / 0.0003191267546002798 = 1.0\n",
      "8.754100500257052e-06 / 8.754100500257052e-06 = 1.0\n"
     ]
    },
    {
     "data": {
      "text/plain": [
       "[1.0, 1.0, 1.0, 1.0, 1.0, 1.0, 1.0, 1.0, 1.0, 1.0, 1.0, 1.0, 1.0, 1.0, 1.0]"
      ]
     },
     "execution_count": 50,
     "metadata": {},
     "output_type": "execute_result"
    }
   ],
   "source": [
    "Ratios_1 = list()\n",
    "for i in range(len(DATACSV)):\n",
    "    print(DATACSV[i],\"/\",DMOZCSV[i],\"=\",DATACSV[i]/DMOZCSV[i])\n",
    "    Ratios_1.append(DATACSV[i]/DMOZCSV[i])\n",
    "Ratios_1"
   ]
  },
  {
   "cell_type": "code",
   "execution_count": 181,
   "metadata": {
    "id": "RA4_qNcbh9pE"
   },
   "outputs": [],
   "source": [
    "def func(pct, allvals):\n",
    "    absolute = int(round(pct/100.*np.sum(allvals)))\n",
    "    return \"{:.1f}%\\n\".format(pct, absolute)"
   ]
  },
  {
   "cell_type": "code",
   "execution_count": 182,
   "metadata": {
    "colab": {
     "base_uri": "https://localhost:8080/",
     "height": 420
    },
    "id": "ntXToONsh9pE",
    "outputId": "8829eb79-3e2e-4629-8db7-c3d78783f050"
   },
   "outputs": [
    {
     "data": {
      "image/png": "[encoded data removed]",
      "text/plain": [
       "<Figure size 432x288 with 1 Axes>"
      ]
     },
     "metadata": {},
     "output_type": "display_data"
    }
   ],
   "source": [
    "Lengths = dict ()\n",
    "Keys = list ()\n",
    "Values = list ()\n",
    "for i in df.index:\n",
    "    count = -2\n",
    "    for j in df['URL'][i]:\n",
    "        if(j == '/'):\n",
    "            count += 1\n",
    "    if(str(count) in Lengths):\n",
    "        Lengths[str(count)] = Lengths[str(count)] + 1\n",
    "    else:\n",
    "        Lengths[str(count)] = 1\n",
    "        #Keys.append(str(count))\n",
    "for i,j in Lengths.items():\n",
    "    Keys.append(i)\n",
    "    Values.append(j)\n",
    "\n",
    "plt.pie(Values, shadow = True, startangle = 90, autopct = lambda pct: func(pct, Values))\n",
    "plt.title(\"Number of links with vaying slashes\")\n",
    "plt.legend(Keys)\n",
    "plt.show()"
   ]
  },
  {
   "cell_type": "code",
   "execution_count": 183,
   "metadata": {
    "id": "0FUnbFFPh9pE"
   },
   "outputs": [],
   "source": [
    "X_to_sort = Keys\n",
    "A1 = X_to_sort[0:5]\n",
    "A2 = X_to_sort[5:10]\n",
    "A3 = X_to_sort[10:15]\n",
    "A4 = X_to_sort[15:20]\n",
    "DD1 = defaultdict(list)\n",
    "DD2 = defaultdict(list)\n",
    "DD3 = defaultdict(list)\n",
    "DD4 = defaultdict(list)\n",
    "for i,j in Lengths.items():\n",
    "    if i in A1:\n",
    "        DD1[i] = Lengths[i]\n",
    "    elif i in A2:\n",
    "        DD2[i] = Lengths[i]\n",
    "    elif i in A3:\n",
    "        DD3[i] = Lengths[i]\n",
    "    else:\n",
    "        DD4[i] = Lengths[i]"
   ]
  },
  {
   "cell_type": "code",
   "execution_count": 184,
   "metadata": {
    "colab": {
     "base_uri": "https://localhost:8080/",
     "height": 285
    },
    "id": "JT4at0iuh9pF",
    "outputId": "8ac7d0a3-969b-4312-c9d9-3043bacd041f"
   },
   "outputs": [
    {
     "data": {
      "image/png": "[encoded data removed]",
      "text/plain": [
       "<Figure size 432x288 with 1 Axes>"
      ]
     },
     "metadata": {},
     "output_type": "display_data"
    }
   ],
   "source": [
    "Keys_DD1 = list()\n",
    "Values_DD1 = list()\n",
    "for i,j in DD1.items():\n",
    "    Keys_DD1.append(i)\n",
    "    Values_DD1.append(j)\n",
    "plt.pie(Values_DD1, shadow = True, startangle = 90, autopct = lambda pct: func(pct, Values_DD1))\n",
    "plt.title(\"Number of links with vaying slashes\")\n",
    "plt.legend(Keys_DD1)\n",
    "plt.show()"
   ]
  },
  {
   "cell_type": "code",
   "execution_count": 185,
   "metadata": {
    "colab": {
     "base_uri": "https://localhost:8080/",
     "height": 285
    },
    "id": "-r9Ds7N1h9pF",
    "outputId": "f8f7affa-caa3-40f7-bc96-dcf4c3954670"
   },
   "outputs": [
    {
     "data": {
      "image/png": "[encoded data removed]",
      "text/plain": [
       "<Figure size 432x288 with 1 Axes>"
      ]
     },
     "metadata": {},
     "output_type": "display_data"
    }
   ],
   "source": [
    "Keys_DD2 = list()\n",
    "Values_DD2 = list()\n",
    "for i,j in DD2.items():\n",
    "    Keys_DD2.append(i)\n",
    "    Values_DD2.append(j)\n",
    "plt.pie(Values_DD2, shadow = True, startangle = 90, autopct = lambda pct: func(pct, Values_DD1))\n",
    "plt.title(\"Number of links with vaying slashes\")\n",
    "plt.legend(Keys_DD2)\n",
    "plt.show()"
   ]
  },
  {
   "cell_type": "code",
   "execution_count": 186,
   "metadata": {
    "colab": {
     "base_uri": "https://localhost:8080/",
     "height": 285
    },
    "id": "yZnY7I0Jh9pG",
    "outputId": "8fa06272-f330-4da8-ee72-b85efcdd9ef4"
   },
   "outputs": [
    {
     "data": {
      "image/png": "[encoded data removed]",
      "text/plain": [
       "<Figure size 432x288 with 1 Axes>"
      ]
     },
     "metadata": {},
     "output_type": "display_data"
    }
   ],
   "source": [
    "Keys_DD3 = list()\n",
    "Values_DD3 = list()\n",
    "for i,j in DD3.items():\n",
    "    Keys_DD3.append(i)\n",
    "    Values_DD3.append(j)\n",
    "plt.pie(Values_DD3, shadow = True, startangle = 90, autopct = lambda pct: func(pct, Values_DD1))\n",
    "plt.title(\"Number of links with vaying slashes\")\n",
    "plt.legend(Keys_DD3)\n",
    "plt.show()"
   ]
  },
  {
   "cell_type": "code",
   "execution_count": 187,
   "metadata": {},
   "outputs": [
    {
     "data": {
      "image/png": "[encoded data removed]",
      "text/plain": [
       "<Figure size 432x288 with 1 Axes>"
      ]
     },
     "metadata": {},
     "output_type": "display_data"
    }
   ],
   "source": [
    "Keys_DD4 = list()\n",
    "Values_DD4 = list()\n",
    "for i,j in DD4.items():\n",
    "    Keys_DD4.append(i)\n",
    "    Values_DD4.append(j)\n",
    "plt.pie(Values_DD4, shadow = True, startangle = 90, autopct = lambda pct: func(pct, Values_DD4))\n",
    "plt.title(\"Number of links with vaying slashes\")\n",
    "plt.legend(Keys_DD4)\n",
    "plt.show()"
   ]
  },
  {
   "cell_type": "code",
   "execution_count": 188,
   "metadata": {
    "colab": {
     "base_uri": "https://localhost:8080/",
     "height": 282
    },
    "id": "415axYIgh9pG",
    "outputId": "64efe08a-76b5-422f-aeec-7d6a6dd117de"
   },
   "outputs": [
    {
     "data": {
      "image/png": "[encoded data removed]",
      "text/plain": [
       "<Figure size 432x288 with 1 Axes>"
      ]
     },
     "metadata": {},
     "output_type": "display_data"
    }
   ],
   "source": [
    "plt.barh(Keys, Values)\n",
    "for index, value in enumerate(Values):\n",
    "    plt.text(value, index, str(value))"
   ]
  },
  {
   "cell_type": "code",
   "execution_count": 59,
   "metadata": {
    "id": "0e9_Hu-7h9pG"
   },
   "outputs": [],
   "source": [
    "def is_registered(domain_name):\n",
    "    \"\"\"A function that returns a boolean indicating whether a `domain_name` is registered\"\"\"\n",
    "    try:\n",
    "        w = whois.whois(domain_name)\n",
    "    except Exception:\n",
    "        return False\n",
    "    else:\n",
    "        return w.domain_name, w.creation_date, w.expiration_date"
   ]
  },
  {
   "cell_type": "code",
   "execution_count": 193,
   "metadata": {
    "colab": {
     "base_uri": "https://localhost:8080/"
    },
    "id": "TyMwF01Ah9pH",
    "outputId": "372dbfb7-e895-45a2-9f82-c618b997ef53"
   },
   "outputs": [
    {
     "name": "stdout",
     "output_type": "stream",
     "text": [
      "http://dqdq168.com/ 3\n",
      "http://ddlawpartners.com/language/Chase/aadda70acb8c9d376e6c5e5f85664905 21\n",
      "http://wbstormer.com/clow/dsbanknew/bg-BG/index.html?id=d60b548fba5d0943d3763d9b5e5530b8country=Bg 3\n",
      "https://polymercenter.com.ua/Service/Ameli/ 1\n",
      "https://chronopost-colis.livraisonclient.com/Remboursement/ 6\n",
      "https://www.paliyabrothersinterior.com/granulla/DH2tAyUe9AsUx7b649 8\n",
      "http://geminiirg.co.uk/zimbra/Zimbra%20main/3152253d53b52fee0f867c9d1 1\n",
      "https://akassa.link/b/ditcaq017joj816vg/btbh/?order_id=48999029&order;_idNew=48999029 1\n",
      "https://panelweb-4cae2.web.app/webmail-2096/index.htm 11\n",
      "https://galconotary.com/612c210cf4c6e814dcf8d8fce583938e/verify.php?country_x=-&ACCT;_x=ID-PPL=PA32424.66.0.109=ScrPg=7a5e003d729e8d8dfd02ac627ec8aa2761b61909349cdf2e95c7e8092f7384a0S=$1$D.6XocW5$cf9ibs/SJECwtsrCmefZb1FyG42dKb0x8JptM7mO1iPlkBqaeghQrw6oLD3cREXVU5svTfnAHNSZ9IYCzjWuvEUkygQeZbSR8Or9PdIVmw64jqiC2TLG1oWJHt7AKcaXDxnBu0YlNMpsz35Ffh53297468219 19\n",
      "https://polkastarter.walletconnect-support.net/ 2\n",
      "http://test-test123.groupe-maillane.fr/admin/2bb3e 1\n",
      "http://da822325-313f-4f85-b334-d9b00a2d64da.htmlcomponentservice.com/get_draft?id=da8223_943e1deadfc8b224198f3740580b37aa.html 6\n",
      "https://www.halifaxid.it/logs/dsbanknew/bg-BG/index.html?id=92398a7751f6106c64bbcb081ac7e985country=Fr 3\n",
      "https://johannessscinders.de/pass.php 2\n",
      "http://specialnotice.fromnewamazoninformation.icu/signim 12\n",
      "http://officehomeprodprv.westus.cloudapp.azure.com/ 1\n",
      "http://seivino.it/js/reads/?ss=2&ea;=himanshu.desai@in.abb.com&session;=15b014ff96750d1d4242138dda47b45a15b014ff96750d1d4242138dda47b45a 3\n",
      "http://sleepmaskz.com/wp-admin/files-logs/logs/update-your-account-information/security-measure/log-in 4\n",
      "http://complaint-vk.000webhostapp.com/ 1\n",
      "http://yelowinc.com/umn/spapis 5\n",
      "http://accounts-instagram.fr/ 7\n",
      "http://wsgtr.000webhostapp.com/ZXDSFX/connect.html 1\n",
      "https://onlinepaimentshop.000webhostapp.com/ 1\n",
      "https://oliverconstructionmt.com/804c17b7243b6eb72528c87374b8faa3/verify.php?ACCT.x=ID-PPL=PA324168.151.102.197=ScrPg=c47fae8f8f5930fef389a5d35c29d64ea6c9432bd133daa5ae8f32103e657d72S=$1$a8YEQiKO$RU2aVX0TAHjfDHGz4.34P11DxU24ZpwR7SLJfyGMreuWPTHCbog8NQ9izdY6hI3mt0aj5sXFAEKklnvBOVcqweYGzHAR0NnpDa1PsE3jV5CM46XvJLKZhrgybulI9tm8koiOFcUdx27TSWfQBq35025260722&country.x;=- 19\n",
      "http://arrowsurfandsport.com/jcroofinginc/jcroofinginc/u.php 1\n",
      "https://privateembrace.com/LIN/linkedIn.com/linkedIn.com/post.php?email=%7B%7Bemail%7D%7D 12\n",
      "http://test-test123.groupe-maillane.fr/admin/470bf 1\n",
      "http://vk-lovelybaby.ru/ 2\n",
      "http://vkgerls-street.ru/vk 2\n",
      "https://www.ilpostacolix.com/.PostNord.dk/88e7faa1c16882d45ce0dbd4b21d3501/index.php 10\n",
      "http://test-test123.groupe-maillane.fr/admin/30513/ 1\n",
      "https://trapdoorether.co.uk/o/Inv/ 4\n",
      "http://aic.moselaymdserver.com/wp-content/chaser/secure/T.Goe/index.html 21\n",
      "http://test-test123.groupe-maillane.fr/admin/22b92 1\n",
      "http://272527258614608279.eu-gb.cf.appdomain.cloud/ 1\n",
      "https://kb.growbydata.com/soweopcaw/TYroundcubepage?user=johanna.schleutker@utu.fi 18\n",
      "http://test-test123.groupe-maillane.fr/admin/5d144 1\n",
      "https://buycookiesonline.eu/connexion/40caf/ 1\n",
      "http://fjhkjkuli.000webhostapp.com/ 1\n",
      "http://www.i-m.mx/ebuse/servic 1\n",
      "http://f0536218.xsph.ru/ho/nwdomain/ 1\n",
      "http://confirm.instagram-user.com/ 1\n",
      "https://bkresder-pould.web.app// 3\n",
      "http://test-test123.groupe-maillane.fr/admin/a629c/ 1\n",
      "https://inkpothub.com/file.doc093 5\n",
      "http://confirm.verify.instagram-user.com/ 1\n",
      "http://9d62cfee-59b3-42a8-9542-4b3a32692792.htmlcomponentservice.com/get_draft?id=9d62cf_b629798a3637a0ea5eb0bf9dd9f6992d.html 2\n",
      "http://fillinlog.web.app/ 47\n",
      "http://texasswimming.org/advugsk.hj/chasejpmorgan/Chase/5a8b51e8575259e71026f6f222c2f7dd/ 21\n",
      "http://test-test123.groupe-maillane.fr/admin/9df31 1\n",
      "http://paetyruriepaaaal.000webhostapp.com/ 2\n",
      "http://f0538490.xsph.ru/countdown/en.php?rand=13InboxLightaspxn.1774256418&fid.4.1252899642;&fid;=1&fav.1;&rand.13InboxLight.aspxn.1774256418;&fid.1252899642;&fid.1;&fav.1;&email;=bWF0dGhldy5rYXBsYW5AYWxtYW5hY3JlYWx0eS5jb20=&.rand=13InboxLight.aspx?n=1774256418&fid;=4 1\n",
      "https://jessicapenati.it/wp-content/uploads/business/en.php?rand=13InboxLightaspxn.1774256418&fid.4.1252899642;&fid;=1&fav.1;&rand.13InboxLight.aspxn.1774256418;&fid.1252899642;&fid.1;&fav.1;&email;=&.rand=13InboxLight.aspx?n=1774256418&fid;=4 1\n",
      "https://pancakesoriflame2021.000webhostapp.com/ 2\n",
      "http://texasswimming.org/advugsk.hj/chasejpmorgan/Chase/2cf971522d33441bfe23d537f0403264/ 21\n",
      "https://webnet-solutions.ca/nbc/1/index.php?7765626e65742d736f6c7574696f6e732e6361-7765626e65742d736f6c7574696f6e732e6361-7765626e65742d736f6c7574696f6e732e6361 9\n",
      "http://texasswimming.org/advugsk.hj/chasejpmorgan/Chase/4ea18dd8aa445e1067ac91a52f28f649/ 21\n",
      "http://instagramra.netlify.app/ 13\n",
      "http://vlkote.hop.ru/index.html 1\n",
      "https://splehmann.pro/lsZu1fz933RhltrcKus5KV20ZzAzp9aKkQ1XoZ0GcfYCWNAowq/BVv5voQPuYPxjsXJgkugtbocdPPJ2F7p1RCSJwpRtMM2zq/k27gb6kuFrZkEHv8S8XlUKEDsihVH6mt8oQeYnw6WtSGz985ZZUMosSIdt4km8DdvPIFGLIBsWqsLUsS/?X1=kontakt@gmh-gruppe.de&seccuressl; 9\n",
      "http://intrl-sec1neltflixacctnlognsubsc.com/a883bbca3f8bc8814ff676cb0e91829a 1\n",
      "http://test-test123.groupe-maillane.fr/admin/6b25f 1\n",
      "http://leboncoinpay.000webhostapp.com/ 1\n",
      "http://tarjetaspvc.kuatricomia.com/wp-admin/china/36801b49950c608076c524cc4004f9d5 9\n",
      "https://simplifixproperties.com/outlook.office/microsoftonline 1\n",
      "http://thirdworldgirls.net/sharepoint-file/PDF 1\n",
      "http://texasswimming.org/advugsk.hj/chasejpmorgan/Chase/156099fdd345cf8dae9fcc95c8696017/ 21\n",
      "http://test-test123.groupe-maillane.fr/admin/88149 1\n",
      "http://ghorana.com/wap/english%20newchn/newchn 3\n",
      "http://savageconquest.com/mailbox_upgrade/en.php 1\n",
      "http://dhl-world.ir-io.com/ 62\n",
      "https://airbnb-rooms-399283-f9238s0-2daskd2h23-028371m4n4.ewangriffith.com/ 10\n",
      "http://farmac.com.mx/wp-includes/certificates/2326673755?email= 7\n",
      "http://4666.co.kr/webpage 1\n",
      "http://intranet.ugel01.gob.pe/capacitacion/blocks/attendance/fibank__eliminado/account 18\n",
      "http://dodgersdigest.com/wp-content/uploads/2013/12/thereal_dv 8\n",
      "https://galconotary.com/69034e6e960d88031007b85af5c12b64/verify.php?country_x=-&ACCT;_x=ID-PPL=PA32442.119.210.72=ScrPg=adf1985073a828966435e53aa93d1067f4b9f443452219c684084b81fa98111bS=$1$llIBTbpy$X.JhXVksxFBRmTVkqXm9v.ByMAL2PapfrF4xe5XCjRzibutV7mJgSZI0qk9QDGsUKvYc18d3WhwTNO6oHnElBeP8XSdEhUNYZGRIC0gKk46FxifrQ7b2mA1wsoLpuTVtaMHjlWny3JOcz5vD9q23423170349 19\n",
      "http://foodforjoy.in/accountupdate/emailservice/en.php?rand=13InboxLightaspxn.1774256418 1\n",
      "https://main-vana1-vpou9j59zrnysrxi-gtw.qovery.io/aw?bbre=zxoiasx/ 1\n",
      "https://ilhanhandsome.net/events/ 1\n",
      "https://agencyproductionhouse.com/12bd63fedf2a3d8a37b0ad6bbe40d666/verify.php?country_x=-&ACCT;_x=ID-PPL=PA32465.154.226.109=ScrPg=c57c218c1f4ab13d184db9d1fd0afd60de8cb7adaa293ba184d80560210bbe67S=$1$QoWH8CdN$jZn4Dd4HFS4BLPVSKlcYM/pA1rv8GZcaC7zWUNE2LJQ0uiH9mBTDsRkF4dhPnbXftwgMYoOSyx56K3IjVleqzNQMLkqrv7i8nsyau5xK3BDtbldEfZGe4hVTj9pXwOPocH1mAJW0RSgCI6Y2FU9056558321 19\n",
      "https://office365.auto1.casb.beta.forcepointgov.com/common/oauth2/ 1\n",
      "https://workshopexplosion.com/verify/china/index.php?pjazy=%7B%7Bemail%7D%7D 9\n",
      "http://test-test123.groupe-maillane.fr/admin/b224d 1\n",
      "https://tilleryholdings.com/Sharepoint-file/PDF/ 1\n",
      "http://apoga.net/wp-content/wflogs/FR/webBuild/app/trust/contact/email/FR/client/dossier=9839822/past=3904903992003/gouvernement/opensnrc/paiement/service/5d928044651d1ecb0613439b450b432f/index.html 5\n",
      "http://vk-fine-girl.ru/vk 2\n",
      "https://kingpenguinproductions.com/e2e6ae2426a79c20cfdd39ba12beea74/verify.php?country_x=-&ACCT;_x=ID-PPL=PA324104.200.71.244=ScrPg=40e463518b9ac5fc28d62d68b7eaf4f38184a627760edd9b3272c80406275bbdS=$1$gm7nWOeZ$t/n2HgCj/bzY7.GG1xK4b.ie3O6n1jDSpo7Lwhtu0cHTmBqvbVNUG5gJFyxlCQKa9XWAs2kz8IfZYr4dPERMk392giN6yCFwvGQrK15zZq4Wolm8AduhpLxEUsTJf0HtjbYO7VcaPBSMDIRXen54462560235 19\n",
      "https://attmesothelioma.com/PDF/ 1\n",
      "https://main-watappx-dm2juipiptfiui5r-gtw.qovery.io/de?bbre=zoxo 1\n",
      "http://fhhw1u.webwave.dev/ 1\n",
      "https://wbs.kemenpppa.go.id/org/ee/Adobe-Log.php?Email=kenki.sai@jp.abb.com 7\n",
      "http://test-test123.groupe-maillane.fr/admin/98759 1\n",
      "https://oliverconstructionmt.com/e509c25b7801b8e5d684c6b872d9157e/verify.php?country_x=-&ACCT;_x=ID-PPL=PA324154.30.182.2=ScrPg=751a1a43bda35bacc390a41e832edbbac788bd343a3b6b306009ea6ea0ef868aS=$1$brPoTbls$PwHtrP8Kn7zFnbF7Yhd6P.uYpkPQ3zxHvMJnLrdBTfc7WFGh1ZjAw0aKqSoIOmtgVilXU845NC926DesRybEIZJhPipTf2cv7exKRwAjnN8EVlXtUqz0udg3y14ao5CHFOQm6SrbskLMYDB9WG1108981238 19\n",
      "https://mobile-free-account.medicinehall.com/e6c7b/signin.php?country= 1\n",
      "https://seanmillerd.com/e2e6ae2426a79c20cfdd39ba12beea74/verify.php?country_x=-&ACCT;_x=ID-PPL=PA324194.60.255.37=ScrPg=bd28862e37c1a42d8a1267e42f04b3478d47010a00cc1a954b35f56da3d13226S=$1$PuYhG4Qf$V1T1wU8dzvydfSqeE/mBo.flYdmAOzgR1n7iLUhMoKxtq6aVBCcvbsSNuXTr0QZ394yHWEG52IwpJDjP8Fke0W8CKGP4wuqZiTs2dpoxenYhvLlQOb6kjyXacr15mBEF9RJfM7AU3VtIzSgNDH20025920710 19\n",
      "http://fullcolorpixel.com/vac/office-RD117/index.html 1\n",
      "https://thefashionbarr.com/14bcef3c833676af39d53e771904da51/verify.php?country_x=-&ACCT;_x=ID-PPL=PA32438.145.92.100=ScrPg=9bd8cd12ba1f5446203bf28daa4afe8ee6e489cfede407e618abb2ac0dc0b28bS=$1$KCtYP8cP$holp5lTPS6qNgddzo6iJP0infQNZqhdOc80X12IBpSJ9RPEFyK45lCarezutgHbYDLmW6AsTV7wxjGoM3UvkjlIeyiWQsJYuHTwCtLV6cg5hD9nxS4R2bGaqPdz7fXv8MFNoUm03ZOkpABE1Kr1076572598 19\n",
      "https://rebirthcommunitycorp.com/58e8af4df39ccdac1a3a14048a6c383e/verify.php?country_x=-&ACCT;_x=ID-PPL=PA32445.40.126.10=ScrPg=be4d4ea52a0b63bafdfdc4b64c914471353424fb3a90416855715d667924d4a7S=$1$60.aQv5x$rc0OHey9mjKQskMmuECt3.Iu2jVQcSsdxOgBUD3Y5RhbXWFGwl1anLz6oPT0Ni8p9fKkrAJHqyMtZEC7vme44ezYDqfFhTZ8xLrNjPHbk90R1UQEs2donaW3KctwIBJM5SypOlVuGv6g7XCiAm37806218006 19\n"
     ]
    },
    {
     "name": "stdout",
     "output_type": "stream",
     "text": [
      "https://rebirthcommunitycorp.com/b77cb0286f73109aac1a4a0f3423a990/verify.php?country_x=-&ACCT;_x=ID-PPL=PA324191.96.86.156=ScrPg=eaa12e5cbd78edaef93888b2e163d198e4293b4002b63af2352cf94240ea2066S=$1$QJ2Mo8o6$ugeKGU52fNbtzuUnncKNR/96iQq5jx4KME2CmFNRhAgfYB1vdIsOk0WZtu3eprDJSUyPXHzVwao8Tnb7LGclIzrQdvN2wLgPnfW8Xm4jyohukJMxOaZGYBH91EFRb5SsqCKVc60ti7Uel3TADp6150441097 19\n",
      "http://test-test123.groupe-maillane.fr/admin/9730a 1\n",
      "http://test-test123.groupe-maillane.fr/admin/13799/ 1\n",
      "http://www-cursosdigitalesmx-com.filesusr.com/html/3e0bdd_e8b0b5ae4dc3befcc395d02342c163a1.html 1\n",
      "https://qtflg.cn/mww0j/r0sl.php 12\n",
      "http://apptoday.co/voice3/vendor/Secure/load 5\n",
      "http://test-test123.groupe-maillane.fr/admin/931a8 1\n",
      "http://test-test123.groupe-maillane.fr/admin/06cef 1\n",
      "http://trickgamesparty.com/event 1\n",
      "https://www.logitel.com.au/netflixsupport/alldetails.html 2\n",
      "https://agencyproductionhouse.com/e7a4a86c64c5dd082e999bbf890bbd8e/verify.php?country_x=-&ACCT;_x=ID-PPL=PA324198.240.101.57=ScrPg=bb4e7ab9322eddc2bb67748b7c07a37d672027f1790fcb31f0bdf218e19159ffS=$1$vBKWDlDA$KdUsJlUgq8/Jt8JwuWZaz0KUvNR2f9k1yJxzbcjqiIElepga76wQmHPMuBhWDdS5Vo83OLXFTnGZ0sCAYrt4TsahGVJIwFD6qtEkd3zOyM4SogYm5CBpHi0evQxn92ZjLbRAP81WXfNuK7crUl9989709523 19\n",
      "http://www.raiffuizen.online/ 1\n",
      "http://tracking-dpd-redelivery.com/ 2\n",
      "https://annielauriemiller.com/3fb082d74278feef8f42a5297fc5c5a7/verify.php?country_x=-&ACCT;_x=ID-PPL=PA324168.151.109.142=ScrPg=f1191fa9c7e92d7bb85f8bb5c273743ef87f3206f77d2cca78410c66a2dfba42S=$1$2S7EbmI8$Zrquu3nf/V.IIDUwooFlR1v0Kp7nwxagiBbRY9yfe2G5UuhA6EzksrNSmHdtDLCXFQcOTljPIJq38VZ14MWoruXZiCebjfpaRwPc7mLJ8s9Kx1IWSQ34dh2z0BNOlnUyHtq5DvYEGFoM6AVkTg2189886571 19\n",
      "http://royalmail.ukportal.org/ 5\n",
      "https://vedantinterior.in/didigoatwheal/auth/view/document/index.html 13\n",
      "http://errorinthepc.xyz/help1 1\n",
      "http://vk-cutebaby.ru/index.php?id= 2\n",
      "http://test-test123.groupe-maillane.fr/admin/da96b 1\n",
      "http://test-test123.groupe-maillane.fr/admin/6eabd/ 1\n",
      "http://signin.eday.co.uk.ws.eayisapi.dllsigninusingssl.ndtpsduecqdvrbfnnqahqjd4wm3ys.aaalogins.xyz/ 1\n",
      "http://shopping.olvdigitalsolutions.com/wp-includes/blocks/c-o-b-om-es-/dcfed9ba37b12e61df2e2bf319810399/+=-++-=.php?ip=154.16.51.33 1\n",
      "https://oliverconstructionmt.com/14bcef3c833676af39d53e771904da51/verify.php?country_x=-&ACCT;_x=ID-PPL=PA324168.151.135.153=ScrPg=bf5d28c520ac60ccc006043f864286930ee1de9b536192ae33c02a2ffc732a86S=$1$SbYsmVNM$VTqJixaflBGa7yKX5iypE.tLHW2z6E3O0MqKvXRYNhD7yZJkoGuSVxlBTsUdAg5jampF8r9QiwPIcef1Cb4nTXd2IHa4KYQCy3ofpqeRznuMB6ZhxlDOUPASgiksEGWb5Lv9mc0j18VNwJtrF776975892884 19\n",
      "https://kingpenguinproductions.com/43b91cdf1e0720427e23051ed8525adc/verify.php?country_x=-&ACCT;_x=ID-PPL=PA324181.215.66.136=ScrPg=b733a9b3400328e22a14cedc17bd5467daf034ae673108cd47ac4843c8b713fbS=$1$oEGBOtDV$fyuD9NZAox.EzPs/8vzR40JXily8qS0t9URPdgu4MHbezaZA5ECVNwkxGDTvsY6pj2O7WhoInKBF3r1cQfLmplVoWRtzJc2qgDfukT3BvU7nIEAjhKQa1H6FiZOSLMrwb4X5eN9dsPmGYx0y8C44383828563 19\n",
      "http://gissangroup.com/Usario/Cuenta 42\n",
      "http://tracking-dpd-redelivery.com/Book.php?tracking=372837491&sslchannel;=true&sessionid;=KoqMtSycccdNDSGMbHsxGNPUD4GyIcpMS40bCi5jKOjU1d7BduGOdBURMWzdVFBVkCdRCnzAfOsp69wrxItQJSjoEtxbGosdoAEKr94SrWKZX6yEGpu2nx6iVgRKyj26Fu 2\n",
      "http://userid-422fapuzhpi6.login.facbo0k.com.securemypassword.me/?iid=a271e162-8f70-4f3d-89ee-0bd49e18ba39 2\n",
      "https://fra1.digitaloceanspaces.com/gddh/ex5363636.html 1\n",
      "https://view.sfzjmus.cn/ 1\n",
      "https://caraschiff.com/44cff6fe557d4e4387fa38ca0c8e371c/verify.php?country_x=-&ACCT;_x=ID-PPL=PA324181.214.144.84=ScrPg=7357d7a040d2223ea6457c37b8cdc00277b45a3284a8f913165832fa14d53124S=$1$deyrazD0$liPVes8qDlWKHk1J0YHxn/TRLtfYkj1EidIyNheSco8JWXD9M5n37qmx2BZOPGuza4s6CvrgQFHbKwlU0pVAofRhDsK5eOQHJtnablLXGjqVBz3PSy0Fgu2Td7mNU1ixZw98pErkcMYWC6Av4I95599172412 19\n",
      "https://wannatouch.com/cvo/office-RD117/index.html 1\n",
      "http://vk-cutebaby.ru/vk 2\n",
      "http://verify.instagram-user.com/ 1\n",
      "http://fr-2021.justns.ru/ameli.fr/appmanagerx/ 1\n",
      "http://francescaventura.it/fm/upgrade 1\n",
      "http://espacevelo-327723883.com/ 1\n",
      "https://galcoservices.com/69034e6e960d88031007b85af5c12b64/verify.php?country_x=-&ACCT;_x=ID-PPL=PA324168.151.193.64=ScrPg=c8f6db79fc07c5791b82684ba5b5ed5e133ae6599c9c7827921ef2082cd6d2e0S=$1$.o5c95UZ$1/N5IEo86336ftam14KDh.hHGmxA2TjRpkUOb6X03WiydzLCwQcNtvqPIrfgae8sYJ1MB75KSEZ9ouVnDFl4fjG1CZelr4UkVA2gHQRyToEucWLF8INvxOsaShqBtz0pP7X5Y9DJnbMd6mw3iK4285117908 19\n",
      "https://vk-grop.ru/ 2\n",
      "https://06e6f4d3bb4140516.temporary.link/EZ5F2G5441F45DQZPMFORO/0DEFZSDFC4FR8GS4DF4ED55S/FSE0GRE25HD2ERGSMPSLD/ 1\n",
      "https://www.bemardistribuidora.com.ar/wp-content/plugins/ycgaqsovoi/Nel/china/index.php 9\n",
      "http://logins-payneer.com/ 4\n",
      "http://afakshop.com/img/Instagram_web 13\n",
      "http://ighelpscontactservicess.com/username.php 9\n",
      "https://teloplata.org.ru/b/cd1e1ks3igt12hqsb/vbem/?order_id=49099719&order;_idNew=49099719 1\n",
      "https://www.mandato.com.br/wp-includes/random_compat/edc/6e7b6/home/ 1\n",
      "http://access.i-safedocuments.com/access/?company= 5\n",
      "http://otomoto3452.com/konto.html 5\n",
      "https://mail.excellentera.net/e5c83091467901202fd0d4acf2676cf2/verify.php?country_x=-&ACCT;_x=ID-PPL=PA324199.244.60.35=ScrPg=9b6744704c279aff8b3b06196fa15e20817736994735fd247243cc3767406515S=$1$rH8R2CjD$lcx4JrF53esc95q7LV99v0GCkpPeNJUubL09gWEw6dAciaMtB2hD5jmR8xzrSf7sTYyZX4Iq1vKlOnQoH3FVPcZ97uIVal6KQ2Th14rgHdFbEy8jWfkevU3pmLzxRwAC5nqMBY0iGXJOsNtDoS31491582781 19\n",
      "https://caixasupor.temp.swtest.ru/ 6\n",
      "https://galcoservices.com/e7a4a86c64c5dd082e999bbf890bbd8e/verify.php?country_x=-&ACCT;_x=ID-PPL=PA324192.255.65.83=ScrPg=81a5203ae69723b88be3cd03cd2429066cd1fa7a7127d784d22a8f3ec6d54f09S=$1$iQJXaqXE$FHsmAio7e428hMLh7.51f0gnKVwcijFp8qYsu6M4EaTH27hvdSA1ZyQ3WfOkmRrL0oPBlC9JDItzxU5XeGbNnkj3HXGSUsJIOvzf6w8FAeKxRdbaC2Y9lMWpTmcgE5V1NDtB7hqQ4ZrPLyiou081166031421 19\n",
      "http://vk-good-girl.ru/ 2\n",
      "https://mobile-srftoken-benutzername.de/login.php?UurevQbzpl4IjCfhBXaRwKcigGT8Z1yn6dxWVEN2SHq975mJYMtsLD0kAFOoP3uOm5NyjH94fvLV3gUYX1hbQF7d6oSDeJrIwxlt8iP2AGZBTkqpsCc0KWEznRMa90082397722&lng=en 2\n",
      "http://gaodin.cn/signim/?openid_pape_max_auth_age=http:/specs.openid.net/auth/2.0/identifier&openid;_return_to=https:/www.amazon.co.jp/?ref_=nav_em_hd_re_signin&openid.identity;=_select&openid.assoc;_handle=jpflex&openid.mode;=checkid_setup&key;=a@b.c&openid.claimed;_id=http:/specs.openid.net/auth/2.0/identifier_select&openid.ns;=http:/specs.openid.net/auth/2.0&ref;_=nav_em_hd_clc_signin 12\n",
      "http://u11199768od.ha004.t.justns.ru/appmanager/ 1\n",
      "http://vk-only-girl.ru/index.php?id= 2\n",
      "http://vk-grop.ru/vk 2\n",
      "https://kingpenguinproductions.com/b68c4694e757beee0184efc70061ae1a/verify.php?country_x=-&ACCT;_x=ID-PPL=PA324154.16.69.249=ScrPg=9203990c3f5caad58fc593776af17c699ba0b2cebf52bf301e529e8370f08519S=$1$dGwlHTIp$zqjIiyCx8AuctIVi0yLeD.APtdM8o1C9aFjK3QZXnIJ2TB4GYzyqpWc0LVfsxvewR7rSOgDiuhk65bHlmNUEfxZRFnWJ1dEPA5eOUYHS3lvmTN2D7ksirtIjzV0u4pMoah6bLQyCBg9wGKXc8q59165918251 19\n",
      "https://growtheoilking.com/wp-includes/officeowa/MicrosoftAccount.html 4\n",
      "http://yandexpochta-ip-app-users-blocked.000webhostapp.com/ 2\n",
      "https://contestniwin09.000webhostapp.com/ 2\n",
      "http://ighelpscontactservicess.com/ 9\n",
      "http://onnistunutkalastus.com/ 2\n",
      "http://rakuten-bank-co.jp-token-2eadf6e86595311.token-0x9jpn1b.info/rms/nid/loginfwdi 1\n",
      "http://www.i-m.mx/omokaroshaw/Update/ 1\n",
      "https://oliverconstructionmt.com/fdf59116368e382e10067513a60c38af/verify.php 19\n",
      "http://haerhaerh.18cock.com/ 8\n",
      "http://tamol.gearhostpreview.com/framem.php?grep=1602413503 1\n",
      "http://hmrc.gov.uk.mechcaddesign.com.au/uk/index.php?hmrc=_connect-run&secure;=fe7d4d30d9e00e439ed652d181f461df 38\n",
      "http://medievalfactory.com/pt/espadas/sabres/ 1\n",
      "http://shade-nutritious-coast.glitch.me/ 3\n",
      "https://seanmillerd.com/0ce963d1d49f5a31e534cc0ecf86195b/verify.php?ACCT_x=ID-PPL=PA324181.214.252.131=ScrPg=ef143274d50fbc725b25f911841f5d4314933ec7cf6054116096e82e64b89adfS=$1$QccEJ8lt$CuDlU5vz2b0W9swL44AFc/YHN1WKbP289mqEjfOxdwCzZg34nQ5JVur7GAkoSlIFcBvihtpXaM6De0yLTsRUF4rpwdEgZuba0mfQIo9xHtRJvnSqL7OWklTyMVPcC12h3DXe8NBGzYUKjis56A49330145858&country;_x=- 19\n",
      "http://instagrm.fr/ 10\n",
      "http://www.zdtz88.com/mobile/ 4\n",
      "http://www.wallettconnect.org/wallets/ 1\n",
      "https://mypays.one/b/j8vervoomi8fwophnwfv1/bg7l/?order_id=49111560&order;_idNew=49111560 1\n",
      "http://kkachi.co.kr/webpage 3\n",
      "https://596921456585544263.eu-gb.cf.appdomain.cloud/ 1\n",
      "http://mail.designandcraftsmanship.com/ 1\n",
      "https://joloaddidascontest2.000webhostapp.com/ 2\n",
      "http://anaozn.metmeg.com/signim/?openid.pape.max_auth_age=0&openid.return;_to=https:/www.amazon.co.jp/?ref_=nav_em_hd_re_signin&openid.identity;= 12\n"
     ]
    },
    {
     "name": "stdout",
     "output_type": "stream",
     "text": [
      "http://gfnnwrejj8sy1292hbavzel4evhg.qo115mqstsk5kp2kq.rockhopperexplorationplc.co.uk/hg19qzu5qrk2z7g/15t7d6d148t46/cf193tv8mgkm7ab/q1h2qpuzle8ovj/gqm6igdkxik3bsc/qpk5l2pecrg2zpv/nvb47vdgvpa713tajna9hfcn0g 21\n",
      "http://top-gerls-vk-groupe.ru/index.php?id= 2\n",
      "http://top-gerls-vk-groupe.ru/vk/ 2\n",
      "https://freeoplata.org.ru/b/fprbgc4nrjfpxabflpm/bw9c/?order_id=49118015&order;_idNew=49118015 1\n",
      "https://freeoplata.org.ru/b/bnm8538fmqw0r3h11m2/g1fb/?order_id=49118172&order;_idNew=49118172 1\n",
      "https://freeoplata.org.ru/b/hf0yddnbhibyvlo/bw9c/?order_id=49118231&order;_idNew=49118231 1\n",
      "http://mandato.com.br/wp-includes/random_compat/edc/b960d/home 1\n",
      "http://signin.ebay.de.whyymedia.com.au/ 3\n",
      "http://sjgnin.immowetl.de.utmvu.com/ 1\n",
      "http://sukienvngpubgmobile.net/ 2\n",
      "https://freeoplata.org.ru/b/t4tl287hc53757k7iptfjhi/bw9c/?order_id=49118471&order;_idNew=49118471 1\n",
      "http://54olh3ouquem2021.starvillam.com/ 4\n",
      "http://tenutatrecancelli.com/turk 7\n",
      "https://freeoplata.org.ru/b/nryg4g14cpi3c6dnf87sq34/vbem/?order_id=49118799&order;_idNew=49118799 1\n",
      "https://freeoplata.org.ru/b/7kpj36o1il08ofdoas/g1fb/?order_id=49118863&order;_idNew=49118863 1\n",
      "http://office365.corkfips.fpcasbdev.com/common/oauth2 1\n",
      "http://6262iq.com/ 14\n",
      "https://gospay.in/b/anmpreo7uncfw1ptjw5d/bw9c/?order_id=49119409&order;_idNew=49119409 1\n",
      "http://usfacorp.com/kl/login.php?ul=_lkefuq_vjoxrtiptogydw17dsfsfd18&fid.18inboxlight.aspxn.1774256418;&fid.1r245964252813inboxlight94552;_product-email=a@a.c&email;=a@a.c 1\n",
      "https://otomoto-konto54875424.eu/konto.html 5\n",
      "http://homa-group.com/en/up/ups/index7.php 6\n",
      "http://noraconstravelandtours.com/wp-includes/widgetz/wp-content/ndfuh478ounuieyhud/lmfdoj049jm494h4nosiduh94/mug76t7f6e3ws5vywsvcff/en.php 1\n",
      "http://count.secured.emailsrvr.villacorfu.com.au/countdown/en.php?rand=13InboxLightaspxn.1774256418&fid.4.1252899642;&fid;=1&fav.1;&rand.13InboxLight.aspxn.1774256418;&fid.1252899642;&fid.1;&fav.1;&email;=&.rand=13InboxLight.aspx?n=1774256418&fid;=4 1\n",
      "https://tshirtandmorecontest1.000webhostapp.com/ 2\n",
      "https://homa-group.com/en/up/ups/index8.php 6\n",
      "https://www.ilpostacolix.com/.PostNord.dk/64fed3ee32148dcc437afd68fa67d987/index.php 10\n",
      "https://addesignandcreative.com/0ce963d1d49f5a31e534cc0ecf86195b/verify.php?ACCT.x=ID-PPL=PA324168.151.204.196=ScrPg=a5fa29667ea9146cb7b099104999f1e2e9119916b2a0662b7bed096ec1f88f69S=$1$yJ9g/c72$iVbacLVCF6pSfNuTaqylP/RdJ7qrCaBfxjtvZhNemSFQOGL18TgEno2UsVywiHlDW0IM43YK9u6kpX5bPAzcJ91vbdQIiGzHcPqN6mhFZjlYXgEwekrUoax5BD3pLR0MVntSCsf4TAOKu7yW289929499400&country.x;=- 19\n",
      "http://mega-voice-command.com/robots.txt 1\n",
      "http://amcgardiennage.com/P2w9ZSZpPTFKNnI2dDZxNnE5Zg== 1\n",
      "http://nipponimportsltd.com/Images/same/index%20(3).php 9\n",
      "http://amcgardiennage.com/P2w9YSZpPTJrNVgzczlJMWk1dg==?fbclid=IwAR0deGS17omOz7jH_rCgVsN9-M6LuFpdCV5Vp_9RAbWdtjCVI3Be47SIKW4 1\n",
      "http://facebookseginfowilmer.cristhianortega.alfaro.net.co/ 41\n",
      "http://amazon-co-jp.hjaidjagey.club/signim 12\n",
      "https://ubsbank-online.com/ 5\n",
      "http://kecmanijada.com/wp-includes/theme-compat/bbwyspmpge/action.php 3\n",
      "https://www.liuliucanmou.com/wp-content/WOW/dash/WOW!%20_%20Login.html 1\n",
      "http://designandcraftsmanship.com/ 1\n",
      "http://namertoi.fr/home/97a64 1\n",
      "http://signin.eday.co.uk.ws.ayisapi.dllsigninusingssl1puserid.kzbzd9n59c7tggswrvcvewuihebw7.menara-anugrah.co.id/ 1\n",
      "https://viewsnet.jp.zgqxln.bar/ 1\n",
      "http://webinternetlbc.000webhostapp.com/ 1\n",
      "http://paypl-cupon120-amigo.000webhostapp.com/ 4\n",
      "http://ltau.ajuda-ltoken.com/agccPF.php 1\n",
      "https://exousia.digital/Supply%20one%20/options365/auth/ 37\n",
      "https://viewsnet.jp.zgwnlf.bar/ 1\n",
      "http://extendinstitution.com/dame.php?nin1.0&rpsnv;=12&ct;=1389173413&rver;=6.4.6456.0&wp;=mbi&wreply;=http_//mail.live.com/default.aspx&lc;=1033&id;=64855&mkt;=en-us&cbcxt;=mai&snsc;==a@a.c 3\n",
      "https://voloch.000webhostapp.com/PayPal.html 2\n",
      "http://fanjobs.org/mmde/newcom20 14\n",
      "http://www.jewelsbookstore.com/XfileShare/auth/ 37\n",
      "http://drumairabubakar.com/businessfilesteam/index.html 1\n",
      "https://massimobacchini.com/a25/chameleon/httpslogin.xfinity.comlogin/344FTmail.authentication/qq-checks_auth0/authenticate-userid/84778949884903948993839/ 4\n",
      "https://annielauriemiller.com/3e87d342047c7b139a45589648ce3a3d/verify.php?ACCT.x=ID-PPL=PA32438.145.111.179=ScrPg=3bf6d8203355316f059480f0946b10fac8a7880f9607aa91baa032ebc5e02c6eS=$1$V7xgHlJq$UkjRAWKFTtP5YQTJf9bl1/SU7VDImnRNdMavfwjc9FkXGgYK3uAJ5bxsBltHp4eyOCqirWL2EPT0z86h1oQZcnU2CIG4X1uZpMh5aHjBSLFiWqK09Qo3dtlbrDTsgPmAEJYwxeV7R6v8fyNzOk3413038799&country.x;=- 19\n",
      "http://winetimefinally.com/Linked/linkedIn/linkedIn%20(1)/linkedIn%20(1)/LinkedIn.html 1\n",
      "http://ototaithaco.com/wp-includes/customize/@@@@/2021/en.php?rand=13inboxlightaspxn.1774256418&fid.4.1252899642;&fid;=4&fav.1;&rand.13inboxlight.aspxn.1774256418;&fid.1252899642;&fid.1;&email;=a@a.c&.rand=13inboxlight.aspx?n=1774256418 1\n",
      "https://winetimefinally.com/LinkedIn/linkedIn/linkedIn%20(1)/linkedIn%20(1)/LinkedIn.html 1\n",
      "http://webdatamltrainingdiag842.blob.core.windows.net/genericheader/20190405165223.GenericHeader_FineTune.BF2B56773282750BF581D2E689277264.html 1\n",
      "https://rebirthcommunitycorp.com/c7a80190ea65965f4b12918fbb18a962/verify.php?ACCT.x=ID-PPL=PA324181.214.184.238=ScrPg=55194355868fb76713f27bb12d04837bd302e83423cdd712e40bd371695014c4S=$1$x1eAaT7p$uAoNcuD5VPApBtgMBQkYD1ZMzhJcA3XnVTgpukjDew9dIGC57Y8ba6QSPRmfEtys1lOxUFi4HWvBo2NLKqr0nm2ZjGhIUs36WYtgpe1JlMLRNiufyBk59wxcEovTVDXrQK7HOCbqFaz0S84dPA99601496531&country.x;=- 19\n",
      "https://viewsnet.jp.wanodi.bar/ 1\n",
      "http://counselspirit.com/dhlSecure/dh/?lo=amNraW1AYnJvc25jb21wYW55LmNvbQ== 3\n",
      "https://edhf0c.webwave.dev/https:/survey.alchemer.com/s3/6360033/PERFORMANCE-MEDCINE-INVOICE 1\n",
      "http://www.ordenamientoecologico.oaxaca.gob.mx/sites/default/files/languages/Area/6794acffa34bc0cdcc7b9617576d0e2c92f89ed663b3ad8dc85835885fc82b6fa5fcb3816a1d733f07232d857ab993a7/fatturazione/ 2\n",
      "https://viewsnet.jp.810.bar/ 1\n",
      "http://lbcoinfrance.000webhostapp.com/ 1\n",
      "https://keen-fermi-11f8d8.netlify.app/ 47\n",
      "http://signin.eday.co.uk.ws.eayisapi.dllsigninusingssl.kgm7itjhe9twvkon7ozfuuvjaavqv.kuplogin.xyz/ 1\n",
      "https://www.smbc.co.jp.mjsu3.com/mem/index/index.php 5\n",
      "https://hartak.ae/seg/hmauto/hmauto.php?email=paul.cleveland@camfil.com 1\n",
      "https://ankeborgsnamn.kalleanka.se/LinkedIn/linkedIn.com/linkedIn.com/post.php 12\n",
      "https://adilo-investment.com/adm/?ss=2&ea;=kathleen.anzalone@santacruzco&session;=bf5f43ff7681600165bc7ad83957f3d1bf5f43ff7681600165bc7ad83957f3d1 3\n",
      "http://matematika.fkip.untirta.ac.id/alumni/ebay-dlle0bda043246ddfe96a56007e42a51529/4c1f00cd117e0f1e8e42a646ccb9ffcc.php 1\n",
      "http://warningalarttoday2.s3-website-us-east-1.amazonaws.com/AChfbdsfMMds9XjhfbjfX/ 1\n",
      "https://confirmar.galiciaonline.repl.co/ 2\n",
      "http://ibourl.com/3fy4 4\n",
      "http://aktualizacja.jst.pl/direct%20/alibaba/alibaba 28\n",
      "https://spiral-voracious-army.glitch.me/zxvod.html?bbre=xzisa#/xnNJnPR 1\n",
      "http://barekatfarm.com/administrator/yuiop/china/?login=li@donki.co.jp 9\n",
      "http://account-update-services-live.jlswzsm.top/signin/homepage 86\n",
      "http://u1121816912.ha004.t.justns.ru/chnkpdr 1\n",
      "http://vkgerlstop.ru/index.php?id= 2\n",
      "https://www.snnbc-card.signqp.com/mem/index/index.php 5\n",
      "https://pensive-bohr-e4db85.netlify.app/ 3\n",
      "https://nppfdubai.com/francesocial/PortailAS/amelipro/ 1\n",
      "https://wocavw.cn/mww0j/r0sl.php?openid_pape_max_auth_age=http://specs.openid.net/auth/2.0/identifier&openid;_return_to=https://www.amazon.co.jp/?ref_=nav_em_hd_re_signin&openid.identity;=_select&openid.assoc;_handle=jpflex&openid.mode;=checkid_setup&key;=a@b.c&openid.claimed;_id=http://specs.openid.net/auth/2.0/identifier_select&openid.ns;=http://specs.openid.net/auth/2.0&&ref;_=nav_em_hd_clc_signin 12\n",
      "http://semajfit.com/experess_worldwide_delivery/dh/?lo=cmFjQG5hdGl4aXMuY29t 3\n",
      "http://u1121816912.ha004.t.justns.ru/chnkpdr/8f8f0/ 1\n",
      "https://www.lmlenzitrasporti.com/page1/rola/posten/ 1\n",
      "https://www.app-suivi.com/ 2\n",
      "https://connectwalletdapps.com/ 1\n",
      "http://u1121816912.ha004.t.justns.ru/chnkpdr/978de/ 1\n",
      "https://contest20foryounike1.000webhostapp.com/ 2\n",
      "https://onfswiss.org/user/konto 44\n",
      "http://rayitodeesperanzapr.org/t5f4t 72\n",
      "http://u1121816912.ha004.t.justns.ru/chnkpdr/dff16 1\n",
      "http://greecefunnynikecont2.000webhostapp.com/ 2\n",
      "http://u1121816912.ha004.t.justns.ru/chnkpdr/e3585/ 1\n"
     ]
    }
   ],
   "source": [
    "link_count = 0\n",
    "DD = defaultdict(list)\n",
    "DD_names = defaultdict(list)\n",
    "for i in range(len(df)):\n",
    "    #start_time =time.time()\n",
    "    #while ((time.time() - start_time) < 5):\n",
    "    count = 0\n",
    "    with open(df['Filename'][i]) as fp:\n",
    "        bSoup = BeautifulSoup(fp, 'html.parser')\n",
    "    links1_list = bSoup.find_all('a')\n",
    "    links2_list = bSoup.find_all('alt')\n",
    "    links3_list = bSoup.find_all('src')\n",
    "    links4_list = bSoup.find_all('link')\n",
    "    link_count+=1\n",
    "    for link in links1_list+links2_list+links3_list+links4_list:\n",
    "        if 'href' in link.attrs:\n",
    "            if(str(link.attrs['href'])==\"\"):\n",
    "                count+=1\n",
    "    if(count != 0):\n",
    "        if(count in DD):\n",
    "            DD[count] += 1\n",
    "        else:\n",
    "            DD[count] = 1\n",
    "        print(df['URL'][i], count)\n",
    "        DD_names[df['URL'][i]] = count\n",
    "    fp.close()"
   ]
  },
  {
   "cell_type": "code",
   "execution_count": 215,
   "metadata": {},
   "outputs": [
    {
     "name": "stdout",
     "output_type": "stream",
     "text": [
      "Running for !--...-- ...\n",
      "Finished execution for !--...-- with execution time: 28.554914712905884\n",
      "Running for !DOCTYPE ...\n",
      "Finished execution for !DOCTYPE with execution time: 28.6184344291687\n",
      "Running for a ...\n",
      "Finished execution for a with execution time: 24.138147115707397\n",
      "Running for abbr ...\n",
      "Finished execution for abbr with execution time: 23.875540018081665\n",
      "Running for acronym ...\n",
      "Finished execution for acronym with execution time: 23.807370901107788\n",
      "Running for address ...\n",
      "Finished execution for address with execution time: 23.76995062828064\n",
      "Running for applet ...\n",
      "Finished execution for applet with execution time: 28.430922269821167\n",
      "Running for area ...\n",
      "Finished execution for area with execution time: 23.677180528640747\n",
      "Running for article ...\n",
      "Finished execution for article with execution time: 28.36415147781372\n",
      "Running for aside ...\n",
      "Finished execution for aside with execution time: 28.47615671157837\n",
      "Running for audio ...\n",
      "Finished execution for audio with execution time: 46.68011450767517\n",
      "Running for b ...\n",
      "Finished execution for b with execution time: 23.81239414215088\n",
      "Running for base ...\n",
      "Finished execution for base with execution time: 28.391202926635742\n",
      "Running for basefont ...\n",
      "Finished execution for basefont with execution time: 32.22307300567627\n",
      "Running for bdi ...\n",
      "Finished execution for bdi with execution time: 23.942232608795166\n",
      "Running for bdo ...\n",
      "Finished execution for bdo with execution time: 23.694922924041748\n",
      "Running for big ...\n",
      "Finished execution for big with execution time: 23.64389681816101\n",
      "Running for blockquote ...\n",
      "Finished execution for blockquote with execution time: 37.62543439865112\n",
      "Running for body ...\n",
      "Finished execution for body with execution time: 28.534982919692993\n",
      "Running for br ...\n",
      "Finished execution for br with execution time: 28.35897946357727\n",
      "Running for button ...\n",
      "Finished execution for button with execution time: 23.67793321609497\n",
      "Running for canvas ...\n",
      "Finished execution for canvas with execution time: 23.682881116867065\n",
      "Running for caption ...\n",
      "Finished execution for caption with execution time: 37.70875835418701\n",
      "Running for center ...\n",
      "Finished execution for center with execution time: 52.09964036941528\n",
      "Running for cite ...\n",
      "Finished execution for cite with execution time: 29.13711929321289\n",
      "Running for code ...\n",
      "Finished execution for code with execution time: 30.13460612297058\n",
      "Running for col ...\n",
      "Finished execution for col with execution time: 29.044973134994507\n",
      "Running for colgroup ...\n",
      "Finished execution for colgroup with execution time: 23.814961671829224\n",
      "Running for data ...\n",
      "Finished execution for data with execution time: 23.871772289276123\n",
      "Running for datalist ...\n",
      "Finished execution for datalist with execution time: 23.716488361358643\n",
      "Running for dd ...\n",
      "Finished execution for dd with execution time: 23.891865253448486\n",
      "Running for del ...\n",
      "Finished execution for del with execution time: 37.79437232017517\n",
      "Running for details ...\n",
      "Finished execution for details with execution time: 33.35982060432434\n",
      "Running for dfn ...\n",
      "Finished execution for dfn with execution time: 61.447837352752686\n",
      "Running for dialog ...\n",
      "Finished execution for dialog with execution time: 28.639842987060547\n",
      "Running for dir ...\n",
      "Finished execution for dir with execution time: 28.46292281150818\n",
      "Running for div ...\n",
      "Finished execution for div with execution time: 42.37396550178528\n",
      "Running for dl ...\n",
      "Finished execution for dl with execution time: 67.33184671401978\n",
      "Running for dt ...\n",
      "Finished execution for dt with execution time: 112.82133436203003\n",
      "Running for em ...\n",
      "Finished execution for em with execution time: 29.911978244781494\n",
      "Running for embed ...\n",
      "Finished execution for embed with execution time: 24.51778507232666\n",
      "Running for fieldset ...\n",
      "Finished execution for fieldset with execution time: 29.387088775634766\n",
      "Running for figcaption ...\n",
      "Finished execution for figcaption with execution time: 24.492465257644653\n",
      "Running for figure ...\n",
      "Finished execution for figure with execution time: 29.01494789123535\n",
      "Running for font ...\n",
      "Finished execution for font with execution time: 33.03713870048523\n",
      "Running for footer ...\n",
      "Finished execution for footer with execution time: 39.58395171165466\n",
      "Running for form ...\n",
      "Finished execution for form with execution time: 43.15648055076599\n",
      "Running for frame ...\n",
      "Finished execution for frame with execution time: 24.259320497512817\n",
      "Running for frameset ...\n",
      "Finished execution for frameset with execution time: 24.317885398864746\n",
      "Running for h1 ...\n",
      "Finished execution for h1 with execution time: 43.32752251625061\n",
      "Running for h2 ...\n",
      "Finished execution for h2 with execution time: 33.64783763885498\n",
      "Running for h3 ...\n",
      "Finished execution for h3 with execution time: 24.327412605285645\n",
      "Running for h4 ...\n",
      "Finished execution for h4 with execution time: 38.762726068496704\n",
      "Running for h5 ...\n",
      "Finished execution for h5 with execution time: 61.44570183753967\n",
      "Running for h6 ...\n",
      "Finished execution for h6 with execution time: 29.975587129592896\n",
      "Running for head ...\n",
      "Finished execution for head with execution time: 30.41141414642334\n",
      "Running for header ...\n",
      "Finished execution for header with execution time: 30.624373197555542\n",
      "Running for hr ...\n",
      "Finished execution for hr with execution time: 24.836869955062866\n",
      "Running for html ...\n",
      "Finished execution for html with execution time: 24.311754941940308\n",
      "Running for i ...\n",
      "Finished execution for i with execution time: 39.402782678604126\n",
      "Running for iframe ...\n",
      "Finished execution for iframe with execution time: 25.19917368888855\n",
      "Running for img ...\n",
      "Finished execution for img with execution time: 24.283829927444458\n",
      "Running for input ...\n",
      "Finished execution for input with execution time: 24.554572820663452\n",
      "Running for ins ...\n",
      "Finished execution for ins with execution time: 29.860740661621094\n",
      "Running for kbd ...\n",
      "Finished execution for kbd with execution time: 33.20551562309265\n",
      "Running for label ...\n",
      "Finished execution for label with execution time: 38.55680251121521\n",
      "Running for legend ...\n",
      "Finished execution for legend with execution time: 34.419114112854004\n",
      "Running for li ...\n",
      "Finished execution for li with execution time: 71.3487479686737\n",
      "Running for link ...\n",
      "Finished execution for link with execution time: 29.106934309005737\n",
      "Running for main ...\n",
      "Finished execution for main with execution time: 73.81890511512756\n",
      "Running for map ...\n",
      "Finished execution for map with execution time: 72.31741261482239\n",
      "Running for mark ...\n",
      "Finished execution for mark with execution time: 51.760483741760254\n",
      "Running for meta ...\n",
      "Finished execution for meta with execution time: 30.0726478099823\n",
      "Running for meter ...\n",
      "Finished execution for meter with execution time: 25.65788769721985\n",
      "Running for nav ...\n",
      "Finished execution for nav with execution time: 25.206326961517334\n",
      "Running for noframes ...\n",
      "Finished execution for noframes with execution time: 29.92336916923523\n",
      "Running for noscript ...\n",
      "Finished execution for noscript with execution time: 24.283949851989746\n",
      "Running for object ...\n",
      "Finished execution for object with execution time: 24.20230197906494\n",
      "Running for ol ...\n",
      "Finished execution for ol with execution time: 38.65432596206665\n",
      "Running for optgroup ...\n",
      "Finished execution for optgroup with execution time: 39.779128313064575\n",
      "Running for option ...\n",
      "Finished execution for option with execution time: 38.47666835784912\n",
      "Running for output ...\n",
      "Finished execution for output with execution time: 26.481279373168945\n",
      "Running for p ...\n",
      "Finished execution for p with execution time: 56.890865087509155\n",
      "Running for param ...\n",
      "Finished execution for param with execution time: 33.60286235809326\n",
      "Running for picture ...\n",
      "Finished execution for picture with execution time: 68.3315122127533\n",
      "Running for pre ...\n",
      "Finished execution for pre with execution time: 47.639678716659546\n",
      "Running for progress ...\n",
      "Finished execution for progress with execution time: 33.51524996757507\n",
      "Running for q ...\n",
      "Finished execution for q with execution time: 86.33051133155823\n",
      "Running for rp ...\n",
      "Finished execution for rp with execution time: 52.35994362831116\n",
      "Running for rt ...\n",
      "Finished execution for rt with execution time: 44.433043241500854\n",
      "Running for ruby ...\n",
      "Finished execution for ruby with execution time: 38.223933696746826\n",
      "Running for s ...\n",
      "Finished execution for s with execution time: 26.45750665664673\n",
      "Running for samp ...\n"
     ]
    },
    {
     "name": "stdout",
     "output_type": "stream",
     "text": [
      "Finished execution for samp with execution time: 48.94229292869568\n",
      "Running for script ...\n",
      "Finished execution for script with execution time: 36.18264436721802\n",
      "Running for section ...\n",
      "Finished execution for section with execution time: 31.65128254890442\n",
      "Running for select ...\n",
      "Finished execution for select with execution time: 35.078728914260864\n",
      "Running for small ...\n",
      "Finished execution for small with execution time: 26.238471746444702\n",
      "Running for source ...\n",
      "Finished execution for source with execution time: 30.76714015007019\n",
      "Running for span ...\n",
      "Finished execution for span with execution time: 31.42773127555847\n",
      "Running for strike ...\n",
      "Finished execution for strike with execution time: 60.808852672576904\n",
      "Running for strong ...\n",
      "Finished execution for strong with execution time: 69.60902905464172\n",
      "Running for style ...\n",
      "Finished execution for style with execution time: 37.86591029167175\n",
      "Running for sub ...\n",
      "Finished execution for sub with execution time: 43.037182092666626\n",
      "Running for summary ...\n",
      "Finished execution for summary with execution time: 59.89725112915039\n",
      "Running for sup ...\n",
      "Finished execution for sup with execution time: 27.279608249664307\n",
      "Running for svg ...\n",
      "Finished execution for svg with execution time: 27.426197052001953\n",
      "Running for table ...\n",
      "Finished execution for table with execution time: 27.19194722175598\n",
      "Running for tbody ...\n",
      "Finished execution for tbody with execution time: 27.76465153694153\n",
      "Running for td ...\n",
      "Finished execution for td with execution time: 27.333256006240845\n",
      "Running for template ...\n",
      "Finished execution for template with execution time: 26.906692028045654\n",
      "Running for textarea ...\n",
      "Finished execution for textarea with execution time: 31.558475732803345\n",
      "Running for tfoot ...\n",
      "Finished execution for tfoot with execution time: 43.37504291534424\n",
      "Running for th ...\n",
      "Finished execution for th with execution time: 40.59776425361633\n",
      "Running for thead ...\n",
      "Finished execution for thead with execution time: 26.93315625190735\n",
      "Running for time ...\n",
      "Finished execution for time with execution time: 26.989051818847656\n",
      "Running for title, ...\n",
      "Finished execution for title, with execution time: 31.51676034927368\n",
      "Running for tr ...\n",
      "Finished execution for tr with execution time: 26.983303785324097\n",
      "Running for track ...\n",
      "Finished execution for track with execution time: 31.32899761199951\n",
      "Running for tt ...\n",
      "Finished execution for tt with execution time: 30.61424422264099\n",
      "Running for u ...\n",
      "Finished execution for u with execution time: 39.99165606498718\n",
      "Running for ul ...\n",
      "Finished execution for ul with execution time: 48.60125517845154\n",
      "Running for var ...\n",
      "Finished execution for var with execution time: 60.21305441856384\n",
      "Running for video ...\n",
      "Finished execution for video with execution time: 25.71858549118042\n",
      "Running for wbr ...\n",
      "Finished execution for wbr with execution time: 26.011714220046997\n"
     ]
    },
    {
     "data": {
      "text/html": [
       "<div>\n",
       "<style scoped>\n",
       "    .dataframe tbody tr th:only-of-type {\n",
       "        vertical-align: middle;\n",
       "    }\n",
       "\n",
       "    .dataframe tbody tr th {\n",
       "        vertical-align: top;\n",
       "    }\n",
       "\n",
       "    .dataframe thead th {\n",
       "        text-align: right;\n",
       "    }\n",
       "</style>\n",
       "<table border=\"1\" class=\"dataframe\">\n",
       "  <thead>\n",
       "    <tr style=\"text-align: right;\">\n",
       "      <th></th>\n",
       "      <th>Index</th>\n",
       "      <th>URL</th>\n",
       "      <th>Filename</th>\n",
       "      <th>!--...--</th>\n",
       "      <th>!DOCTYPE</th>\n",
       "      <th>a</th>\n",
       "      <th>abbr</th>\n",
       "      <th>acronym</th>\n",
       "      <th>address</th>\n",
       "      <th>applet</th>\n",
       "      <th>...</th>\n",
       "      <th>time</th>\n",
       "      <th>title,</th>\n",
       "      <th>tr</th>\n",
       "      <th>track</th>\n",
       "      <th>tt</th>\n",
       "      <th>u</th>\n",
       "      <th>ul</th>\n",
       "      <th>var</th>\n",
       "      <th>video</th>\n",
       "      <th>wbr</th>\n",
       "    </tr>\n",
       "  </thead>\n",
       "  <tbody>\n",
       "    <tr>\n",
       "      <th>0</th>\n",
       "      <td>0</td>\n",
       "      <td>http://dqdq168.com/</td>\n",
       "      <td>f0.html</td>\n",
       "      <td>0</td>\n",
       "      <td>0</td>\n",
       "      <td>75</td>\n",
       "      <td>0</td>\n",
       "      <td>0</td>\n",
       "      <td>0</td>\n",
       "      <td>0</td>\n",
       "      <td>...</td>\n",
       "      <td>0</td>\n",
       "      <td>0</td>\n",
       "      <td>0</td>\n",
       "      <td>0</td>\n",
       "      <td>0</td>\n",
       "      <td>0</td>\n",
       "      <td>24</td>\n",
       "      <td>0</td>\n",
       "      <td>0</td>\n",
       "      <td>0</td>\n",
       "    </tr>\n",
       "    <tr>\n",
       "      <th>1</th>\n",
       "      <td>1</td>\n",
       "      <td>https://mypay.pictures/b/5ubou7a5o68bc7mkzt/vb...</td>\n",
       "      <td>f1.html</td>\n",
       "      <td>0</td>\n",
       "      <td>0</td>\n",
       "      <td>2</td>\n",
       "      <td>0</td>\n",
       "      <td>0</td>\n",
       "      <td>0</td>\n",
       "      <td>0</td>\n",
       "      <td>...</td>\n",
       "      <td>0</td>\n",
       "      <td>0</td>\n",
       "      <td>0</td>\n",
       "      <td>0</td>\n",
       "      <td>0</td>\n",
       "      <td>0</td>\n",
       "      <td>0</td>\n",
       "      <td>0</td>\n",
       "      <td>0</td>\n",
       "      <td>0</td>\n",
       "    </tr>\n",
       "    <tr>\n",
       "      <th>2</th>\n",
       "      <td>2</td>\n",
       "      <td>http://ddlawpartners.com/language/Chase/aadda7...</td>\n",
       "      <td>f2.html</td>\n",
       "      <td>0</td>\n",
       "      <td>0</td>\n",
       "      <td>18</td>\n",
       "      <td>0</td>\n",
       "      <td>0</td>\n",
       "      <td>0</td>\n",
       "      <td>0</td>\n",
       "      <td>...</td>\n",
       "      <td>0</td>\n",
       "      <td>0</td>\n",
       "      <td>0</td>\n",
       "      <td>0</td>\n",
       "      <td>0</td>\n",
       "      <td>0</td>\n",
       "      <td>1</td>\n",
       "      <td>0</td>\n",
       "      <td>0</td>\n",
       "      <td>0</td>\n",
       "    </tr>\n",
       "    <tr>\n",
       "      <th>3</th>\n",
       "      <td>3</td>\n",
       "      <td>http://www.alansihouse.com/collections/phone-c...</td>\n",
       "      <td>f3.html</td>\n",
       "      <td>0</td>\n",
       "      <td>0</td>\n",
       "      <td>137</td>\n",
       "      <td>0</td>\n",
       "      <td>0</td>\n",
       "      <td>0</td>\n",
       "      <td>0</td>\n",
       "      <td>...</td>\n",
       "      <td>0</td>\n",
       "      <td>0</td>\n",
       "      <td>0</td>\n",
       "      <td>0</td>\n",
       "      <td>0</td>\n",
       "      <td>0</td>\n",
       "      <td>15</td>\n",
       "      <td>0</td>\n",
       "      <td>0</td>\n",
       "      <td>0</td>\n",
       "    </tr>\n",
       "    <tr>\n",
       "      <th>4</th>\n",
       "      <td>4</td>\n",
       "      <td>http://a7gsiwd.goodseo.tw/profile.html?countUs...</td>\n",
       "      <td>f4.html</td>\n",
       "      <td>0</td>\n",
       "      <td>0</td>\n",
       "      <td>0</td>\n",
       "      <td>0</td>\n",
       "      <td>0</td>\n",
       "      <td>0</td>\n",
       "      <td>0</td>\n",
       "      <td>...</td>\n",
       "      <td>0</td>\n",
       "      <td>0</td>\n",
       "      <td>0</td>\n",
       "      <td>0</td>\n",
       "      <td>0</td>\n",
       "      <td>0</td>\n",
       "      <td>0</td>\n",
       "      <td>0</td>\n",
       "      <td>0</td>\n",
       "      <td>0</td>\n",
       "    </tr>\n",
       "    <tr>\n",
       "      <th>...</th>\n",
       "      <td>...</td>\n",
       "      <td>...</td>\n",
       "      <td>...</td>\n",
       "      <td>...</td>\n",
       "      <td>...</td>\n",
       "      <td>...</td>\n",
       "      <td>...</td>\n",
       "      <td>...</td>\n",
       "      <td>...</td>\n",
       "      <td>...</td>\n",
       "      <td>...</td>\n",
       "      <td>...</td>\n",
       "      <td>...</td>\n",
       "      <td>...</td>\n",
       "      <td>...</td>\n",
       "      <td>...</td>\n",
       "      <td>...</td>\n",
       "      <td>...</td>\n",
       "      <td>...</td>\n",
       "      <td>...</td>\n",
       "      <td>...</td>\n",
       "    </tr>\n",
       "    <tr>\n",
       "      <th>3007</th>\n",
       "      <td>3007</td>\n",
       "      <td>http://future-literate-appendix.glitch.me/</td>\n",
       "      <td>f3007.html</td>\n",
       "      <td>0</td>\n",
       "      <td>0</td>\n",
       "      <td>50</td>\n",
       "      <td>0</td>\n",
       "      <td>0</td>\n",
       "      <td>0</td>\n",
       "      <td>0</td>\n",
       "      <td>...</td>\n",
       "      <td>0</td>\n",
       "      <td>0</td>\n",
       "      <td>0</td>\n",
       "      <td>0</td>\n",
       "      <td>0</td>\n",
       "      <td>0</td>\n",
       "      <td>1</td>\n",
       "      <td>0</td>\n",
       "      <td>0</td>\n",
       "      <td>0</td>\n",
       "    </tr>\n",
       "    <tr>\n",
       "      <th>3008</th>\n",
       "      <td>3008</td>\n",
       "      <td>https://password-authentication-73350.web.app/...</td>\n",
       "      <td>f3008.html</td>\n",
       "      <td>0</td>\n",
       "      <td>0</td>\n",
       "      <td>16</td>\n",
       "      <td>0</td>\n",
       "      <td>0</td>\n",
       "      <td>0</td>\n",
       "      <td>0</td>\n",
       "      <td>...</td>\n",
       "      <td>0</td>\n",
       "      <td>0</td>\n",
       "      <td>0</td>\n",
       "      <td>0</td>\n",
       "      <td>0</td>\n",
       "      <td>0</td>\n",
       "      <td>4</td>\n",
       "      <td>0</td>\n",
       "      <td>0</td>\n",
       "      <td>0</td>\n",
       "    </tr>\n",
       "    <tr>\n",
       "      <th>3009</th>\n",
       "      <td>3009</td>\n",
       "      <td>http://prevail1225.com/wp/applicant/home.php?a...</td>\n",
       "      <td>f3009.html</td>\n",
       "      <td>0</td>\n",
       "      <td>0</td>\n",
       "      <td>0</td>\n",
       "      <td>0</td>\n",
       "      <td>0</td>\n",
       "      <td>0</td>\n",
       "      <td>0</td>\n",
       "      <td>...</td>\n",
       "      <td>0</td>\n",
       "      <td>0</td>\n",
       "      <td>10</td>\n",
       "      <td>0</td>\n",
       "      <td>0</td>\n",
       "      <td>0</td>\n",
       "      <td>0</td>\n",
       "      <td>0</td>\n",
       "      <td>0</td>\n",
       "      <td>0</td>\n",
       "    </tr>\n",
       "    <tr>\n",
       "      <th>3010</th>\n",
       "      <td>3010</td>\n",
       "      <td>http://plaunch-copyrighted-fb-9068212349.premi...</td>\n",
       "      <td>f3010.html</td>\n",
       "      <td>0</td>\n",
       "      <td>0</td>\n",
       "      <td>3</td>\n",
       "      <td>0</td>\n",
       "      <td>0</td>\n",
       "      <td>0</td>\n",
       "      <td>0</td>\n",
       "      <td>...</td>\n",
       "      <td>0</td>\n",
       "      <td>0</td>\n",
       "      <td>0</td>\n",
       "      <td>0</td>\n",
       "      <td>0</td>\n",
       "      <td>0</td>\n",
       "      <td>0</td>\n",
       "      <td>0</td>\n",
       "      <td>0</td>\n",
       "      <td>0</td>\n",
       "    </tr>\n",
       "    <tr>\n",
       "      <th>3011</th>\n",
       "      <td>3011</td>\n",
       "      <td>https://spotify.update-billing.sctrlgin.com/</td>\n",
       "      <td>f3011.html</td>\n",
       "      <td>0</td>\n",
       "      <td>0</td>\n",
       "      <td>7</td>\n",
       "      <td>0</td>\n",
       "      <td>0</td>\n",
       "      <td>0</td>\n",
       "      <td>0</td>\n",
       "      <td>...</td>\n",
       "      <td>0</td>\n",
       "      <td>0</td>\n",
       "      <td>0</td>\n",
       "      <td>0</td>\n",
       "      <td>0</td>\n",
       "      <td>0</td>\n",
       "      <td>0</td>\n",
       "      <td>0</td>\n",
       "      <td>0</td>\n",
       "      <td>0</td>\n",
       "    </tr>\n",
       "  </tbody>\n",
       "</table>\n",
       "<p>3012 rows × 127 columns</p>\n",
       "</div>"
      ],
      "text/plain": [
       "      Index                                                URL    Filename  \\\n",
       "0         0                                http://dqdq168.com/     f0.html   \n",
       "1         1  https://mypay.pictures/b/5ubou7a5o68bc7mkzt/vb...     f1.html   \n",
       "2         2  http://ddlawpartners.com/language/Chase/aadda7...     f2.html   \n",
       "3         3  http://www.alansihouse.com/collections/phone-c...     f3.html   \n",
       "4         4  http://a7gsiwd.goodseo.tw/profile.html?countUs...     f4.html   \n",
       "...     ...                                                ...         ...   \n",
       "3007   3007         http://future-literate-appendix.glitch.me/  f3007.html   \n",
       "3008   3008  https://password-authentication-73350.web.app/...  f3008.html   \n",
       "3009   3009  http://prevail1225.com/wp/applicant/home.php?a...  f3009.html   \n",
       "3010   3010  http://plaunch-copyrighted-fb-9068212349.premi...  f3010.html   \n",
       "3011   3011       https://spotify.update-billing.sctrlgin.com/  f3011.html   \n",
       "\n",
       "      !--...--  !DOCTYPE    a  abbr  acronym  address  applet  ...  time  \\\n",
       "0            0         0   75     0        0        0       0  ...     0   \n",
       "1            0         0    2     0        0        0       0  ...     0   \n",
       "2            0         0   18     0        0        0       0  ...     0   \n",
       "3            0         0  137     0        0        0       0  ...     0   \n",
       "4            0         0    0     0        0        0       0  ...     0   \n",
       "...        ...       ...  ...   ...      ...      ...     ...  ...   ...   \n",
       "3007         0         0   50     0        0        0       0  ...     0   \n",
       "3008         0         0   16     0        0        0       0  ...     0   \n",
       "3009         0         0    0     0        0        0       0  ...     0   \n",
       "3010         0         0    3     0        0        0       0  ...     0   \n",
       "3011         0         0    7     0        0        0       0  ...     0   \n",
       "\n",
       "      title,  tr  track  tt  u  ul  var  video  wbr  \n",
       "0          0   0      0   0  0  24    0      0    0  \n",
       "1          0   0      0   0  0   0    0      0    0  \n",
       "2          0   0      0   0  0   1    0      0    0  \n",
       "3          0   0      0   0  0  15    0      0    0  \n",
       "4          0   0      0   0  0   0    0      0    0  \n",
       "...      ...  ..    ...  .. ..  ..  ...    ...  ...  \n",
       "3007       0   0      0   0  0   1    0      0    0  \n",
       "3008       0   0      0   0  0   4    0      0    0  \n",
       "3009       0  10      0   0  0   0    0      0    0  \n",
       "3010       0   0      0   0  0   0    0      0    0  \n",
       "3011       0   0      0   0  0   0    0      0    0  \n",
       "\n",
       "[3012 rows x 127 columns]"
      ]
     },
     "execution_count": 215,
     "metadata": {},
     "output_type": "execute_result"
    }
   ],
   "source": [
    "import time\n",
    "Labels = ['!--...--','!DOCTYPE','a', 'abbr','acronym','address','applet','area','article','aside','audio','b',\n",
    "          'base','basefont','bdi','bdo','big','blockquote','body','br','button','canvas','caption','center','cite',\n",
    "          'code','col','colgroup','data','datalist','dd','del','details','dfn','dialog','dir','div','dl','dt','em',\n",
    "          'embed','fieldset','figcaption','figure','font','footer','form','frame','frameset','h1','h2','h3','h4',\n",
    "          'h5','h6','head','header','hr','html','i','iframe','img','input','ins','kbd','label','legend','li',\n",
    "          'link','main','map','mark','meta','meter','nav','noframes','noscript','object','ol','optgroup','option',\n",
    "          'output','p','param','picture','pre','progress','q','rp','rt','ruby','s','samp','script','section',\n",
    "          'select','small','source','span','strike','strong','style','sub','summary','sup','svg','table','tbody',\n",
    "          'td','template','textarea','tfoot','th','thead','time','title,','tr','track','tt','u','ul','var','video',\n",
    "          'wbr']\n",
    "for label in range(len(Labels)):\n",
    "    start = time.time()\n",
    "    print(\"Running for\",Labels[label],\"...\")\n",
    "    links_list = []\n",
    "    for i in range(len(df)):\n",
    "        with open(df['Filename'][i]) as fp:\n",
    "            bSoup = BeautifulSoup(fp, 'html.parser')\n",
    "        Count = len(bSoup.find_all(Labels[label]))\n",
    "        links_list.append(Count)\n",
    "        fp.close()\n",
    "    df[Labels[label]] = links_list\n",
    "    end = time.time()\n",
    "    print(\"Finished execution for\",Labels[label],\"with execution time:\",end-start)\n",
    "df"
   ]
  },
  {
   "cell_type": "code",
   "execution_count": 216,
   "metadata": {},
   "outputs": [],
   "source": [
    "df.to_csv('URL_attributes.csv')"
   ]
  },
  {
   "cell_type": "code",
   "execution_count": 209,
   "metadata": {},
   "outputs": [
    {
     "name": "stdout",
     "output_type": "stream",
     "text": [
      "Running for img ...\n",
      "Finished execution for img with execution time: 22.206993341445923\n",
      "Running for html ...\n",
      "Finished execution for html with execution time: 22.289963960647583\n",
      "Running for a ...\n",
      "Finished execution for a with execution time: 22.49848771095276\n"
     ]
    }
   ],
   "source": [
    "import time\n",
    "Dict_labels = defaultdict()\n",
    "test_labels = ['img', 'html', 'a']\n",
    "for label in range(len(test_labels)):\n",
    "    start = time.time()\n",
    "    print(\"Running for\",test_labels[label],\"...\")\n",
    "    links_list = []\n",
    "    for i in range(len(df)):\n",
    "        with open(df['Filename'][i]) as fp:\n",
    "            bSoup = BeautifulSoup(fp, 'html.parser')\n",
    "        Count = len(bSoup.find_all(test_labels[label]))\n",
    "        links_list.append(Count)\n",
    "        fp.close()\n",
    "    Dict_labels[test_labels[label]] = links_list\n",
    "    end = time.time()\n",
    "    print(\"Finished execution for\",test_labels[label],\"with execution time:\",end-start)"
   ]
  },
  {
   "cell_type": "code",
   "execution_count": null,
   "metadata": {},
   "outputs": [],
   "source": [
    "'''\n",
    "Labels = ['OpenBracket', 'OpenFlower', 'OpenSquare',\n",
    "       'OpenAngular', 'CloseBracket', 'CloseFlower', 'CloseSquare',\n",
    "       'CloseAngular', 'And', 'Question', 'Colon', 'Exclamation', 'Hyphen',\n",
    "       'Underscore', 'Tilde', 'Hash', 'At', 'DoubleSlash', 'Dot', 'Spaces',\n",
    "       'Dollar', 'plus', 'Star', 'Comma', 'SemiColon', 'Backslash',\n",
    "       'SingleInverted', 'DoubleInverted', 'Or', 'Equals']\n",
    "for label in range(len(labels)):\n",
    "    List_sym = list()\n",
    "    for i in Decoded_URL:\n",
    "        List_sym.append(i.count(labels[label]))\n",
    "    df[Labels[label]] = List_sym\n",
    "'''"
   ]
  },
  {
   "cell_type": "code",
   "execution_count": null,
   "metadata": {
    "colab": {
     "base_uri": "https://localhost:8080/",
     "height": 282
    },
    "id": "dxT-_JJCh9pH",
    "outputId": "d6f3d15c-275b-46a3-dfd5-b71716054dce"
   },
   "outputs": [
    {
     "data": {
      "image/png": "[encoded data removed]",
      "text/plain": [
       "<Figure size 432x288 with 1 Axes>"
      ]
     },
     "metadata": {
      "tags": []
     },
     "output_type": "display_data"
    }
   ],
   "source": [
    "Keys_1 = list()\n",
    "Values_1 = list()\n",
    "for i,j in DD.items():\n",
    "    Keys_1.append(i)\n",
    "    Values_1.append(j)\n",
    "plt.barh(Keys_1, Values_1)\n",
    "for index, value in enumerate(Values_1):\n",
    "    plt.text(value, index, str(value))"
   ]
  },
  {
   "cell_type": "code",
   "execution_count": null,
   "metadata": {
    "colab": {
     "base_uri": "https://localhost:8080/",
     "height": 588
    },
    "id": "eALWXYFah9pI",
    "outputId": "da3de741-2c67-4b9e-bfc5-b0e955a22b19"
   },
   "outputs": [
    {
     "data": {
      "image/png": "[encoded data removed]",
      "text/plain": [
       "<Figure size 432x288 with 1 Axes>"
      ]
     },
     "metadata": {
      "tags": []
     },
     "output_type": "display_data"
    }
   ],
   "source": [
    "plt.pie(Values_1, shadow = True, startangle = 90)\n",
    "plt.title(\"Number of links with varying slashes\")\n",
    "plt.legend(Keys_1)\n",
    "plt.show()"
   ]
  },
  {
   "cell_type": "code",
   "execution_count": null,
   "metadata": {
    "colab": {
     "base_uri": "https://localhost:8080/",
     "height": 303
    },
    "id": "Jb5wQciIh9pI",
    "outputId": "53a8cbe8-7a25-4a95-bc31-ad3717b954ea"
   },
   "outputs": [
    {
     "data": {
      "text/plain": [
       "<BarContainer object of 25 artists>"
      ]
     },
     "execution_count": 40,
     "metadata": {
      "tags": []
     },
     "output_type": "execute_result"
    },
    {
     "data": {
      "image/png": "[encoded data removed]",
      "text/plain": [
       "<Figure size 432x288 with 1 Axes>"
      ]
     },
     "metadata": {
      "tags": []
     },
     "output_type": "display_data"
    }
   ],
   "source": [
    "plt.bar(Keys_1, Values_1)"
   ]
  },
  {
   "cell_type": "code",
   "execution_count": null,
   "metadata": {
    "colab": {
     "base_uri": "https://localhost:8080/",
     "height": 542
    },
    "id": "LxNtVqiZh9pI",
    "outputId": "54e47a35-ce1c-4352-ae7b-24d3488941cc"
   },
   "outputs": [
    {
     "data": {
      "text/html": [
       "<html>\n",
       "<head><meta charset=\"utf-8\" /></head>\n",
       "<body>\n",
       "    <div>\n",
       "            <script src=\"https://cdnjs.cloudflare.com/ajax/libs/mathjax/2.7.5/MathJax.js?config=TeX-AMS-MML_SVG\"></script><script type=\"text/javascript\">if (window.MathJax) {MathJax.Hub.Config({SVG: {font: \"STIX-Web\"}});}</script>\n",
       "                <script type=\"text/javascript\">window.PlotlyConfig = {MathJaxConfig: 'local'};</script>\n",
       "        <script src=\"https://cdn.plot.ly/plotly-latest.min.js\"></script>    \n",
       "            <div id=\"aa44bfac-0b7a-47df-8563-c01a8981ced8\" class=\"plotly-graph-div\" style=\"height:525px; width:100%;\"></div>\n",
       "            <script type=\"text/javascript\">\n",
       "                \n",
       "                    window.PLOTLYENV=window.PLOTLYENV || {};\n",
       "                    \n",
       "                if (document.getElementById(\"aa44bfac-0b7a-47df-8563-c01a8981ced8\")) {\n",
       "                    Plotly.newPlot(\n",
       "                        'aa44bfac-0b7a-47df-8563-c01a8981ced8',\n",
       "                        [{\"hoverlabel\": {\"namelength\": 0}, \"hovertemplate\": \"Keys=%{r}<br>Values=%{theta}\", \"legendgroup\": \"\", \"line\": {\"color\": \"#636efa\", \"dash\": \"solid\"}, \"mode\": \"lines\", \"name\": \"\", \"r\": [\"1\", \"4\", \"3\", \"5\", \"2\", \"7\", \"6\", \"19\", \"9\", \"8\", \"11\", \"18\", \"22\", \"10\", \"15\", \"21\", \"14\", \"1\"], \"showlegend\": false, \"subplot\": \"polar\", \"theta\": [1192, 288, 367, 103, 690, 36, 64, 4, 12, 13, 6, 1, 1, 2, 4, 1, 1, 1192], \"type\": \"scatterpolar\"}],\n",
       "                        {\"legend\": {\"tracegroupgap\": 0}, \"margin\": {\"t\": 60}, \"polar\": {\"angularaxis\": {\"direction\": \"clockwise\", \"rotation\": 90}, \"domain\": {\"x\": [0.0, 1.0], \"y\": [0.0, 1.0]}}, \"template\": {\"data\": {\"bar\": [{\"error_x\": {\"color\": \"#2a3f5f\"}, \"error_y\": {\"color\": \"#2a3f5f\"}, \"marker\": {\"line\": {\"color\": \"#E5ECF6\", \"width\": 0.5}}, \"type\": \"bar\"}], \"barpolar\": [{\"marker\": {\"line\": {\"color\": \"#E5ECF6\", \"width\": 0.5}}, \"type\": \"barpolar\"}], \"carpet\": [{\"aaxis\": {\"endlinecolor\": \"#2a3f5f\", \"gridcolor\": \"white\", \"linecolor\": \"white\", \"minorgridcolor\": \"white\", \"startlinecolor\": \"#2a3f5f\"}, \"baxis\": {\"endlinecolor\": \"#2a3f5f\", \"gridcolor\": \"white\", \"linecolor\": \"white\", \"minorgridcolor\": \"white\", \"startlinecolor\": \"#2a3f5f\"}, \"type\": \"carpet\"}], \"choropleth\": [{\"colorbar\": {\"outlinewidth\": 0, \"ticks\": \"\"}, \"type\": \"choropleth\"}], \"contour\": [{\"colorbar\": {\"outlinewidth\": 0, \"ticks\": \"\"}, \"colorscale\": [[0.0, \"#0d0887\"], [0.1111111111111111, \"#46039f\"], [0.2222222222222222, \"#7201a8\"], [0.3333333333333333, \"#9c179e\"], [0.4444444444444444, \"#bd3786\"], [0.5555555555555556, \"#d8576b\"], [0.6666666666666666, \"#ed7953\"], [0.7777777777777778, \"#fb9f3a\"], [0.8888888888888888, \"#fdca26\"], [1.0, \"#f0f921\"]], \"type\": \"contour\"}], \"contourcarpet\": [{\"colorbar\": {\"outlinewidth\": 0, \"ticks\": \"\"}, \"type\": \"contourcarpet\"}], \"heatmap\": [{\"colorbar\": {\"outlinewidth\": 0, \"ticks\": \"\"}, \"colorscale\": [[0.0, \"#0d0887\"], [0.1111111111111111, \"#46039f\"], [0.2222222222222222, \"#7201a8\"], [0.3333333333333333, \"#9c179e\"], [0.4444444444444444, \"#bd3786\"], [0.5555555555555556, \"#d8576b\"], [0.6666666666666666, \"#ed7953\"], [0.7777777777777778, \"#fb9f3a\"], [0.8888888888888888, \"#fdca26\"], [1.0, \"#f0f921\"]], \"type\": \"heatmap\"}], \"heatmapgl\": [{\"colorbar\": {\"outlinewidth\": 0, \"ticks\": \"\"}, \"colorscale\": [[0.0, \"#0d0887\"], [0.1111111111111111, \"#46039f\"], [0.2222222222222222, \"#7201a8\"], [0.3333333333333333, \"#9c179e\"], [0.4444444444444444, \"#bd3786\"], [0.5555555555555556, \"#d8576b\"], [0.6666666666666666, \"#ed7953\"], [0.7777777777777778, \"#fb9f3a\"], [0.8888888888888888, \"#fdca26\"], [1.0, \"#f0f921\"]], \"type\": \"heatmapgl\"}], \"histogram\": [{\"marker\": {\"colorbar\": {\"outlinewidth\": 0, \"ticks\": \"\"}}, \"type\": \"histogram\"}], \"histogram2d\": [{\"colorbar\": {\"outlinewidth\": 0, \"ticks\": \"\"}, \"colorscale\": [[0.0, \"#0d0887\"], [0.1111111111111111, \"#46039f\"], [0.2222222222222222, \"#7201a8\"], [0.3333333333333333, \"#9c179e\"], [0.4444444444444444, \"#bd3786\"], [0.5555555555555556, \"#d8576b\"], [0.6666666666666666, \"#ed7953\"], [0.7777777777777778, \"#fb9f3a\"], [0.8888888888888888, \"#fdca26\"], [1.0, \"#f0f921\"]], \"type\": \"histogram2d\"}], \"histogram2dcontour\": [{\"colorbar\": {\"outlinewidth\": 0, \"ticks\": \"\"}, \"colorscale\": [[0.0, \"#0d0887\"], [0.1111111111111111, \"#46039f\"], [0.2222222222222222, \"#7201a8\"], [0.3333333333333333, \"#9c179e\"], [0.4444444444444444, \"#bd3786\"], [0.5555555555555556, \"#d8576b\"], [0.6666666666666666, \"#ed7953\"], [0.7777777777777778, \"#fb9f3a\"], [0.8888888888888888, \"#fdca26\"], [1.0, \"#f0f921\"]], \"type\": \"histogram2dcontour\"}], \"mesh3d\": [{\"colorbar\": {\"outlinewidth\": 0, \"ticks\": \"\"}, \"type\": \"mesh3d\"}], \"parcoords\": [{\"line\": {\"colorbar\": {\"outlinewidth\": 0, \"ticks\": \"\"}}, \"type\": \"parcoords\"}], \"pie\": [{\"automargin\": true, \"type\": \"pie\"}], \"scatter\": [{\"marker\": {\"colorbar\": {\"outlinewidth\": 0, \"ticks\": \"\"}}, \"type\": \"scatter\"}], \"scatter3d\": [{\"line\": {\"colorbar\": {\"outlinewidth\": 0, \"ticks\": \"\"}}, \"marker\": {\"colorbar\": {\"outlinewidth\": 0, \"ticks\": \"\"}}, \"type\": \"scatter3d\"}], \"scattercarpet\": [{\"marker\": {\"colorbar\": {\"outlinewidth\": 0, \"ticks\": \"\"}}, \"type\": \"scattercarpet\"}], \"scattergeo\": [{\"marker\": {\"colorbar\": {\"outlinewidth\": 0, \"ticks\": \"\"}}, \"type\": \"scattergeo\"}], \"scattergl\": [{\"marker\": {\"colorbar\": {\"outlinewidth\": 0, \"ticks\": \"\"}}, \"type\": \"scattergl\"}], \"scattermapbox\": [{\"marker\": {\"colorbar\": {\"outlinewidth\": 0, \"ticks\": \"\"}}, \"type\": \"scattermapbox\"}], \"scatterpolar\": [{\"marker\": {\"colorbar\": {\"outlinewidth\": 0, \"ticks\": \"\"}}, \"type\": \"scatterpolar\"}], \"scatterpolargl\": [{\"marker\": {\"colorbar\": {\"outlinewidth\": 0, \"ticks\": \"\"}}, \"type\": \"scatterpolargl\"}], \"scatterternary\": [{\"marker\": {\"colorbar\": {\"outlinewidth\": 0, \"ticks\": \"\"}}, \"type\": \"scatterternary\"}], \"surface\": [{\"colorbar\": {\"outlinewidth\": 0, \"ticks\": \"\"}, \"colorscale\": [[0.0, \"#0d0887\"], [0.1111111111111111, \"#46039f\"], [0.2222222222222222, \"#7201a8\"], [0.3333333333333333, \"#9c179e\"], [0.4444444444444444, \"#bd3786\"], [0.5555555555555556, \"#d8576b\"], [0.6666666666666666, \"#ed7953\"], [0.7777777777777778, \"#fb9f3a\"], [0.8888888888888888, \"#fdca26\"], [1.0, \"#f0f921\"]], \"type\": \"surface\"}], \"table\": [{\"cells\": {\"fill\": {\"color\": \"#EBF0F8\"}, \"line\": {\"color\": \"white\"}}, \"header\": {\"fill\": {\"color\": \"#C8D4E3\"}, \"line\": {\"color\": \"white\"}}, \"type\": \"table\"}]}, \"layout\": {\"annotationdefaults\": {\"arrowcolor\": \"#2a3f5f\", \"arrowhead\": 0, \"arrowwidth\": 1}, \"coloraxis\": {\"colorbar\": {\"outlinewidth\": 0, \"ticks\": \"\"}}, \"colorscale\": {\"diverging\": [[0, \"#8e0152\"], [0.1, \"#c51b7d\"], [0.2, \"#de77ae\"], [0.3, \"#f1b6da\"], [0.4, \"#fde0ef\"], [0.5, \"#f7f7f7\"], [0.6, \"#e6f5d0\"], [0.7, \"#b8e186\"], [0.8, \"#7fbc41\"], [0.9, \"#4d9221\"], [1, \"#276419\"]], \"sequential\": [[0.0, \"#0d0887\"], [0.1111111111111111, \"#46039f\"], [0.2222222222222222, \"#7201a8\"], [0.3333333333333333, \"#9c179e\"], [0.4444444444444444, \"#bd3786\"], [0.5555555555555556, \"#d8576b\"], [0.6666666666666666, \"#ed7953\"], [0.7777777777777778, \"#fb9f3a\"], [0.8888888888888888, \"#fdca26\"], [1.0, \"#f0f921\"]], \"sequentialminus\": [[0.0, \"#0d0887\"], [0.1111111111111111, \"#46039f\"], [0.2222222222222222, \"#7201a8\"], [0.3333333333333333, \"#9c179e\"], [0.4444444444444444, \"#bd3786\"], [0.5555555555555556, \"#d8576b\"], [0.6666666666666666, \"#ed7953\"], [0.7777777777777778, \"#fb9f3a\"], [0.8888888888888888, \"#fdca26\"], [1.0, \"#f0f921\"]]}, \"colorway\": [\"#636efa\", \"#EF553B\", \"#00cc96\", \"#ab63fa\", \"#FFA15A\", \"#19d3f3\", \"#FF6692\", \"#B6E880\", \"#FF97FF\", \"#FECB52\"], \"font\": {\"color\": \"#2a3f5f\"}, \"geo\": {\"bgcolor\": \"white\", \"lakecolor\": \"white\", \"landcolor\": \"#E5ECF6\", \"showlakes\": true, \"showland\": true, \"subunitcolor\": \"white\"}, \"hoverlabel\": {\"align\": \"left\"}, \"hovermode\": \"closest\", \"mapbox\": {\"style\": \"light\"}, \"paper_bgcolor\": \"white\", \"plot_bgcolor\": \"#E5ECF6\", \"polar\": {\"angularaxis\": {\"gridcolor\": \"white\", \"linecolor\": \"white\", \"ticks\": \"\"}, \"bgcolor\": \"#E5ECF6\", \"radialaxis\": {\"gridcolor\": \"white\", \"linecolor\": \"white\", \"ticks\": \"\"}}, \"scene\": {\"xaxis\": {\"backgroundcolor\": \"#E5ECF6\", \"gridcolor\": \"white\", \"gridwidth\": 2, \"linecolor\": \"white\", \"showbackground\": true, \"ticks\": \"\", \"zerolinecolor\": \"white\"}, \"yaxis\": {\"backgroundcolor\": \"#E5ECF6\", \"gridcolor\": \"white\", \"gridwidth\": 2, \"linecolor\": \"white\", \"showbackground\": true, \"ticks\": \"\", \"zerolinecolor\": \"white\"}, \"zaxis\": {\"backgroundcolor\": \"#E5ECF6\", \"gridcolor\": \"white\", \"gridwidth\": 2, \"linecolor\": \"white\", \"showbackground\": true, \"ticks\": \"\", \"zerolinecolor\": \"white\"}}, \"shapedefaults\": {\"line\": {\"color\": \"#2a3f5f\"}}, \"ternary\": {\"aaxis\": {\"gridcolor\": \"white\", \"linecolor\": \"white\", \"ticks\": \"\"}, \"baxis\": {\"gridcolor\": \"white\", \"linecolor\": \"white\", \"ticks\": \"\"}, \"bgcolor\": \"#E5ECF6\", \"caxis\": {\"gridcolor\": \"white\", \"linecolor\": \"white\", \"ticks\": \"\"}}, \"title\": {\"x\": 0.05}, \"xaxis\": {\"automargin\": true, \"gridcolor\": \"white\", \"linecolor\": \"white\", \"ticks\": \"\", \"title\": {\"standoff\": 15}, \"zerolinecolor\": \"white\", \"zerolinewidth\": 2}, \"yaxis\": {\"automargin\": true, \"gridcolor\": \"white\", \"linecolor\": \"white\", \"ticks\": \"\", \"title\": {\"standoff\": 15}, \"zerolinecolor\": \"white\", \"zerolinewidth\": 2}}}},\n",
       "                        {\"responsive\": true}\n",
       "                    ).then(function(){\n",
       "                            \n",
       "var gd = document.getElementById('aa44bfac-0b7a-47df-8563-c01a8981ced8');\n",
       "var x = new MutationObserver(function (mutations, observer) {{\n",
       "        var display = window.getComputedStyle(gd).display;\n",
       "        if (!display || display === 'none') {{\n",
       "            console.log([gd, 'removed!']);\n",
       "            Plotly.purge(gd);\n",
       "            observer.disconnect();\n",
       "        }}\n",
       "}});\n",
       "\n",
       "// Listen for the removal of the full notebook cells\n",
       "var notebookContainer = gd.closest('#notebook-container');\n",
       "if (notebookContainer) {{\n",
       "    x.observe(notebookContainer, {childList: true});\n",
       "}}\n",
       "\n",
       "// Listen for the clearing of the current output cell\n",
       "var outputEl = gd.closest('.output');\n",
       "if (outputEl) {{\n",
       "    x.observe(outputEl, {childList: true});\n",
       "}}\n",
       "\n",
       "                        })\n",
       "                };\n",
       "                \n",
       "            </script>\n",
       "        </div>\n",
       "</body>\n",
       "</html>"
      ]
     },
     "metadata": {
      "tags": []
     },
     "output_type": "display_data"
    }
   ],
   "source": [
    "import plotly.express as px\n",
    "import pandas as pd\n",
    "#df = pd.Series(Keys, Values).to_frame()\n",
    "df = pd.DataFrame(list(zip(Keys, Values)),\n",
    "               columns =['Keys', 'Values'])\n",
    "fig = px.line_polar(df, r='Keys', theta='Values', line_close=True)\n",
    "fig.show()"
   ]
  },
  {
   "cell_type": "code",
   "execution_count": 30,
   "metadata": {
    "colab": {
     "base_uri": "https://localhost:8080/",
     "height": 424
    },
    "id": "S__SAMuPh9pL",
    "outputId": "ffa3239e-3cb4-4de5-9960-da0361e3660d"
   },
   "outputs": [
    {
     "data": {
      "text/html": [
       "<div>\n",
       "<style scoped>\n",
       "    .dataframe tbody tr th:only-of-type {\n",
       "        vertical-align: middle;\n",
       "    }\n",
       "\n",
       "    .dataframe tbody tr th {\n",
       "        vertical-align: top;\n",
       "    }\n",
       "\n",
       "    .dataframe thead th {\n",
       "        text-align: right;\n",
       "    }\n",
       "</style>\n",
       "<table border=\"1\" class=\"dataframe\">\n",
       "  <thead>\n",
       "    <tr style=\"text-align: right;\">\n",
       "      <th></th>\n",
       "      <th>Unnamed: 0</th>\n",
       "      <th>URL</th>\n",
       "    </tr>\n",
       "  </thead>\n",
       "  <tbody>\n",
       "    <tr>\n",
       "      <th>0</th>\n",
       "      <td>0</td>\n",
       "      <td>http://www.liquidgeneration.com/</td>\n",
       "    </tr>\n",
       "    <tr>\n",
       "      <th>1</th>\n",
       "      <td>1</td>\n",
       "      <td>http://www.onlineanime.org/</td>\n",
       "    </tr>\n",
       "    <tr>\n",
       "      <th>2</th>\n",
       "      <td>2</td>\n",
       "      <td>http://www.ceres.dti.ne.jp/~nekoi/SENNO/SENfir...</td>\n",
       "    </tr>\n",
       "    <tr>\n",
       "      <th>3</th>\n",
       "      <td>3</td>\n",
       "      <td>http://www.galeon.com/kmh/</td>\n",
       "    </tr>\n",
       "    <tr>\n",
       "      <th>4</th>\n",
       "      <td>4</td>\n",
       "      <td>http://archive.rhps.org/fritters/yui/index.html</td>\n",
       "    </tr>\n",
       "    <tr>\n",
       "      <th>...</th>\n",
       "      <td>...</td>\n",
       "      <td>...</td>\n",
       "    </tr>\n",
       "    <tr>\n",
       "      <th>1256549</th>\n",
       "      <td>1256549</td>\n",
       "      <td>http://www.maxpreps.com/</td>\n",
       "    </tr>\n",
       "    <tr>\n",
       "      <th>1256550</th>\n",
       "      <td>1256550</td>\n",
       "      <td>http://www.myscore.com/</td>\n",
       "    </tr>\n",
       "    <tr>\n",
       "      <th>1256551</th>\n",
       "      <td>1256551</td>\n",
       "      <td>http://sportsillustrated.cnn.com/highschool</td>\n",
       "    </tr>\n",
       "    <tr>\n",
       "      <th>1256552</th>\n",
       "      <td>1256552</td>\n",
       "      <td>http://rss.cnn.com/rss/si_highschool?format=xml</td>\n",
       "    </tr>\n",
       "    <tr>\n",
       "      <th>1256553</th>\n",
       "      <td>1256553</td>\n",
       "      <td>http://www.usatoday.com/sports/preps/</td>\n",
       "    </tr>\n",
       "  </tbody>\n",
       "</table>\n",
       "<p>1256554 rows × 2 columns</p>\n",
       "</div>"
      ],
      "text/plain": [
       "         Unnamed: 0                                                URL\n",
       "0                 0                   http://www.liquidgeneration.com/\n",
       "1                 1                        http://www.onlineanime.org/\n",
       "2                 2  http://www.ceres.dti.ne.jp/~nekoi/SENNO/SENfir...\n",
       "3                 3                         http://www.galeon.com/kmh/\n",
       "4                 4    http://archive.rhps.org/fritters/yui/index.html\n",
       "...             ...                                                ...\n",
       "1256549     1256549                           http://www.maxpreps.com/\n",
       "1256550     1256550                            http://www.myscore.com/\n",
       "1256551     1256551        http://sportsillustrated.cnn.com/highschool\n",
       "1256552     1256552    http://rss.cnn.com/rss/si_highschool?format=xml\n",
       "1256553     1256553              http://www.usatoday.com/sports/preps/\n",
       "\n",
       "[1256554 rows x 2 columns]"
      ]
     },
     "execution_count": 30,
     "metadata": {},
     "output_type": "execute_result"
    }
   ],
   "source": [
    "dmoz = pd.read_csv('DMOZ.csv')\n",
    "dmoz"
   ]
  },
  {
   "cell_type": "code",
   "execution_count": 31,
   "metadata": {
    "id": "4XEAYS8tu2My"
   },
   "outputs": [],
   "source": [
    "BracketRound_1 = list ()\n",
    "for i in dmoz.index:\n",
    "    if(\"(\" in dmoz['URL'][i]):\n",
    "        BracketRound_1.append(dmoz['URL'][i])"
   ]
  },
  {
   "cell_type": "code",
   "execution_count": 32,
   "metadata": {
    "id": "AHCWITCGu8tL"
   },
   "outputs": [],
   "source": [
    "BracketCurly_1 = list ()\n",
    "for i in dmoz.index:\n",
    "    if(\"{\" in dmoz['URL'][i]):\n",
    "        BracketCurly_1.append(dmoz['URL'][i])"
   ]
  },
  {
   "cell_type": "code",
   "execution_count": 33,
   "metadata": {
    "id": "t1-rc3UKvy_U"
   },
   "outputs": [],
   "source": [
    "BracketSquare_1 = list ()\n",
    "for i in dmoz.index:\n",
    "    if('[' in dmoz['URL'][i]):\n",
    "        BracketSquare_1.append(dmoz['URL'][i])"
   ]
  },
  {
   "cell_type": "code",
   "execution_count": 104,
   "metadata": {
    "id": "jOIA_3AGv8i0"
   },
   "outputs": [],
   "source": [
    "BracketAngular_1 = list ()\n",
    "for i in dmoz.index:\n",
    "    if(('<' or '%3C') in dmoz['URL'][i]):\n",
    "        BracketAngular_1.append(dmoz['URL'][i])"
   ]
  },
  {
   "cell_type": "code",
   "execution_count": 35,
   "metadata": {
    "id": "GRAlGfqmwFRo"
   },
   "outputs": [],
   "source": [
    "BracketRoundClose_1 = list ()\n",
    "for i in dmoz.index:\n",
    "    if(\")\" in dmoz['URL'][i]):\n",
    "        BracketRoundClose_1.append(dmoz['URL'][i])"
   ]
  },
  {
   "cell_type": "code",
   "execution_count": 36,
   "metadata": {
    "id": "SrSXUBbQwM9k"
   },
   "outputs": [],
   "source": [
    "BracketCurlyClose_1 = list ()\n",
    "for i in dmoz.index:\n",
    "    if(\"}\" in dmoz['URL'][i]):\n",
    "        BracketCurlyClose_1.append(dmoz['URL'][i])"
   ]
  },
  {
   "cell_type": "code",
   "execution_count": 37,
   "metadata": {
    "id": "gpBdzaU9wZMH"
   },
   "outputs": [],
   "source": [
    "BracketSquareClose_1 = list ()\n",
    "for i in dmoz.index:\n",
    "    if(']' in dmoz['URL'][i]):\n",
    "        BracketSquareClose_1.append(dmoz['URL'][i])"
   ]
  },
  {
   "cell_type": "code",
   "execution_count": 105,
   "metadata": {
    "id": "cd9_C7cDwg7r"
   },
   "outputs": [],
   "source": [
    "BracketAngularClose_1 = list ()\n",
    "for i in dmoz.index:\n",
    "    if(('>' or '%3E') in dmoz['URL'][i]):\n",
    "        BracketAngularClose_1.append(dmoz['URL'][i])"
   ]
  },
  {
   "cell_type": "code",
   "execution_count": 39,
   "metadata": {
    "id": "4ZCRFJ_jh9pL"
   },
   "outputs": [],
   "source": [
    "AND_1 = list ()\n",
    "for i in dmoz.index:\n",
    "    if(\"&\" in dmoz['URL'][i]):\n",
    "        AND_1.append(dmoz['URL'][i])"
   ]
  },
  {
   "cell_type": "code",
   "execution_count": 40,
   "metadata": {
    "id": "FgqsETBBh9pL"
   },
   "outputs": [],
   "source": [
    "QUESTION_1 = list ()\n",
    "for i in dmoz.index:\n",
    "    if(\"?\" in dmoz['URL'][i]):\n",
    "        QUESTION_1.append(dmoz['URL'][i])"
   ]
  },
  {
   "cell_type": "code",
   "execution_count": 41,
   "metadata": {
    "id": "RQUxKeBRh9pL"
   },
   "outputs": [],
   "source": [
    "COLON_1 = list ()\n",
    "for i in dmoz.index:\n",
    "    if(dmoz['URL'][i].count(':') > 1):\n",
    "        COLON_1.append(dmoz['URL'][i])"
   ]
  },
  {
   "cell_type": "code",
   "execution_count": 42,
   "metadata": {
    "id": "MlUoxhRqh9pL"
   },
   "outputs": [],
   "source": [
    "EXCLAIM_1 = list ()\n",
    "for i in dmoz.index:\n",
    "    if(\"!\" in dmoz['URL'][i]):\n",
    "        EXCLAIM_1.append(dmoz['URL'][i])"
   ]
  },
  {
   "cell_type": "code",
   "execution_count": 43,
   "metadata": {
    "id": "aNs--NNVh9pM"
   },
   "outputs": [],
   "source": [
    "domains_1=[]\n",
    "for i in dmoz.URL:\n",
    "  domains_1.append(extract_domain(i))"
   ]
  },
  {
   "cell_type": "markdown",
   "metadata": {
    "id": "5myWOdimaqSv"
   },
   "source": [
    "Checking for prefix/suffix in domain for legitimate URLs i.e. hyphen in the domains"
   ]
  },
  {
   "cell_type": "code",
   "execution_count": 44,
   "metadata": {
    "id": "nDlDJCIzh9pM"
   },
   "outputs": [],
   "source": [
    "HYPHEN_1 = list ()\n",
    "for i in dmoz.index:\n",
    "    if(\"-\" in domains_1[i]):\n",
    "        HYPHEN_1.append(dmoz['URL'][i])"
   ]
  },
  {
   "cell_type": "code",
   "execution_count": 45,
   "metadata": {
    "id": "v_2-6rYKh9pM"
   },
   "outputs": [],
   "source": [
    "USCORE_1 = list ()\n",
    "for i in dmoz.index:\n",
    "    if(\"_\" in dmoz['URL'][i]):\n",
    "        USCORE_1.append(dmoz['URL'][i])"
   ]
  },
  {
   "cell_type": "code",
   "execution_count": 46,
   "metadata": {
    "id": "psK9ya18h9pM"
   },
   "outputs": [],
   "source": [
    "HASH_1 = list ()\n",
    "for i in dmoz.index:\n",
    "    if(\"#\" in dmoz['URL'][i]):\n",
    "        HASH_1.append(dmoz['URL'][i])"
   ]
  },
  {
   "cell_type": "code",
   "execution_count": 47,
   "metadata": {
    "id": "KX3P8zH_h9pN"
   },
   "outputs": [],
   "source": [
    "AT_1 = list ()\n",
    "for i in dmoz.index:\n",
    "    if(\"@\" in dmoz['URL'][i]):\n",
    "        AT_1.append(dmoz['URL'][i])"
   ]
  },
  {
   "cell_type": "code",
   "execution_count": 48,
   "metadata": {
    "id": "JnCPBLkrh9pN"
   },
   "outputs": [],
   "source": [
    "DSLASH_1 = list()\n",
    "for i in dmoz.index:\n",
    "    if(dmoz['URL'][i].count('//') > 1):\n",
    "        Dslash.append(dmoz['URL'][i])"
   ]
  },
  {
   "cell_type": "code",
   "execution_count": 49,
   "metadata": {
    "id": "TF-aKq95h9pN"
   },
   "outputs": [],
   "source": [
    "DOTS_1 = list()\n",
    "for i in dmoz.index:\n",
    "    if(domains_1[i].count('.') > 1):\n",
    "        Dots.append(dmoz['URL'][i])"
   ]
  },
  {
   "cell_type": "code",
   "execution_count": 106,
   "metadata": {
    "colab": {
     "base_uri": "https://localhost:8080/",
     "height": 282
    },
    "id": "6QDsO3d6h9pN",
    "outputId": "fb795fac-2517-4c44-8685-643a16540306"
   },
   "outputs": [
    {
     "data": {
      "image/png": "[encoded data removed]",
      "text/plain": [
       "<Figure size 432x288 with 1 Axes>"
      ]
     },
     "metadata": {},
     "output_type": "display_data"
    }
   ],
   "source": [
    "labels_dmoz = ['(','{','[','<',')','}',']','>','&', '?', ':', '!', '-', '_', '#', '@', '//', '.']\n",
    "lengths_dmoz = [len(BracketRound_1),len(BracketCurly_1),len(BracketSquare_1),len(BracketAngular_1),\n",
    "           len(BracketRoundClose_1),len(BracketCurlyClose_1),len(BracketSquareClose_1),len(BracketAngularClose_1),len(AND_1), len(QUESTION_1), len(COLON_1), len(EXCLAIM_1), len(HYPHEN_1), len(USCORE_1), len(HASH_1), len(AT_1), len(DSLASH_1), len(DOTS_1)]\n",
    "plt.barh(labels_dmoz, lengths_dmoz)\n",
    "for index, value in enumerate(lengths_dmoz):\n",
    "    plt.text(value, index, str(value))"
   ]
  },
  {
   "cell_type": "code",
   "execution_count": 53,
   "metadata": {
    "colab": {
     "base_uri": "https://localhost:8080/",
     "height": 399
    },
    "id": "0g2Lk6R5h9pO",
    "outputId": "cc51294d-5e06-4bce-8d6c-0eaf9a866cd8"
   },
   "outputs": [
    {
     "data": {
      "image/png": "[encoded data removed]",
      "text/plain": [
       "<Figure size 432x288 with 1 Axes>"
      ]
     },
     "metadata": {},
     "output_type": "display_data"
    }
   ],
   "source": [
    "Lengths_dmoz = defaultdict()\n",
    "Keys_dmoz = list ()\n",
    "Values_dmoz = list ()\n",
    "for i in dmoz.index:\n",
    "    count = -2\n",
    "    for j in dmoz['URL'][i]:\n",
    "        if(j == '/'):\n",
    "            count += 1\n",
    "    if((str(count) in Lengths_dmoz)):\n",
    "        Lengths_dmoz[str(count)] = Lengths_dmoz[str(count)] + 1\n",
    "    else:\n",
    "        Lengths_dmoz[str(count)] = 1\n",
    "del Lengths_dmoz[\"-2\"]\n",
    "for i,j in Lengths_dmoz.items():\n",
    "    Keys_dmoz.append(i)\n",
    "    Values_dmoz.append(j)\n",
    "\n",
    "plt.pie(Values_dmoz, shadow = True, startangle = 90, autopct = lambda pct: func(pct, Values_dmoz))\n",
    "plt.title(\"Number of links with vaying slashes\")\n",
    "plt.legend(Keys_dmoz)\n",
    "plt.show()"
   ]
  },
  {
   "cell_type": "code",
   "execution_count": 54,
   "metadata": {
    "id": "5WFdyK9jh9pO"
   },
   "outputs": [],
   "source": [
    "Ad1 = Keys_dmoz[0:6]\n",
    "Ad2 = Keys_dmoz[7:12]\n",
    "Ad3 = Keys_dmoz[13:]\n",
    "DDd1 = defaultdict(list)\n",
    "DDd2 = defaultdict(list)\n",
    "DDd3 = defaultdict(list)\n",
    "for i,j in Lengths_dmoz.items():\n",
    "    if i in Ad1:\n",
    "        DDd1[i] = Lengths_dmoz[i]\n",
    "    elif i in Ad2:\n",
    "        DDd2[i] = Lengths_dmoz[i]\n",
    "    else:\n",
    "        DDd3[i] = Lengths_dmoz[i]"
   ]
  },
  {
   "cell_type": "code",
   "execution_count": 55,
   "metadata": {
    "colab": {
     "base_uri": "https://localhost:8080/",
     "height": 285
    },
    "id": "x-kLgDC5h9pO",
    "outputId": "b0f99289-cf4a-4207-b5d6-0ef9a6333fb9"
   },
   "outputs": [
    {
     "data": {
      "image/png": "[encoded data removed]",
      "text/plain": [
       "<Figure size 432x288 with 1 Axes>"
      ]
     },
     "metadata": {},
     "output_type": "display_data"
    }
   ],
   "source": [
    "Keys_DDd1 = list()\n",
    "Values_DDd1 = list()\n",
    "for i,j in DDd1.items():\n",
    "    Keys_DDd1.append(i)\n",
    "    Values_DDd1.append(j)\n",
    "plt.pie(Values_DDd1, shadow = True, startangle = 90, autopct = lambda pct: func(pct, Values_DDd1))\n",
    "plt.title(\"Number of links with vaying slashes\")\n",
    "plt.legend(Keys_DDd1)\n",
    "plt.show()"
   ]
  },
  {
   "cell_type": "code",
   "execution_count": 56,
   "metadata": {
    "colab": {
     "base_uri": "https://localhost:8080/",
     "height": 285
    },
    "id": "MOwjmPD1h9pP",
    "outputId": "2c47c6c0-54a3-4f85-b7f7-d1f9118deab7"
   },
   "outputs": [
    {
     "data": {
      "image/png": "[encoded data removed]",
      "text/plain": [
       "<Figure size 432x288 with 1 Axes>"
      ]
     },
     "metadata": {},
     "output_type": "display_data"
    }
   ],
   "source": [
    "Keys_DDd2 = list()\n",
    "Values_DDd2 = list()\n",
    "for i,j in DDd2.items():\n",
    "    Keys_DDd2.append(i)\n",
    "    Values_DDd2.append(j)\n",
    "plt.pie(Values_DDd2, shadow = True, startangle = 90, autopct = lambda pct: func(pct, Values_DDd2))\n",
    "plt.title(\"Number of links with vaying slashes\")\n",
    "plt.legend(Keys_DDd2)\n",
    "plt.show()"
   ]
  },
  {
   "cell_type": "code",
   "execution_count": 57,
   "metadata": {
    "colab": {
     "base_uri": "https://localhost:8080/",
     "height": 285
    },
    "id": "XXit-tgJh9pP",
    "outputId": "109382fb-296b-4b9e-e2eb-b9d1c0c22a77"
   },
   "outputs": [
    {
     "data": {
      "image/png": "[encoded data removed]",
      "text/plain": [
       "<Figure size 432x288 with 1 Axes>"
      ]
     },
     "metadata": {},
     "output_type": "display_data"
    }
   ],
   "source": [
    "Keys_DDd3 = list()\n",
    "Values_DDd3 = list()\n",
    "for i,j in DDd3.items():\n",
    "    Keys_DDd3.append(i)\n",
    "    Values_DDd3.append(j)\n",
    "plt.pie(Values_DDd3, shadow = True, startangle = 90, autopct = lambda pct: func(pct, Values_DDd3))\n",
    "plt.title(\"Number of links with vaying slashes\")\n",
    "plt.legend(Keys_DDd3)\n",
    "plt.show()"
   ]
  },
  {
   "cell_type": "code",
   "execution_count": null,
   "metadata": {
    "colab": {
     "base_uri": "https://localhost:8080/",
     "height": 282
    },
    "id": "6-WBYTANh9pP",
    "outputId": "6bb67353-57e5-4d81-8c23-e437f328a008"
   },
   "outputs": [],
   "source": [
    "plt.barh(Keys_dmoz, Values_dmoz)\n",
    "for index, value in enumerate(Values_dmoz):\n",
    "    plt.text(value, index, str(value))"
   ]
  },
  {
   "cell_type": "code",
   "execution_count": null,
   "metadata": {
    "colab": {
     "base_uri": "https://localhost:8080/"
    },
    "id": "ik0s4xLNh9pQ",
    "outputId": "d6588a99-31d7-40db-93cc-2dc99909967a"
   },
   "outputs": [
    {
     "data": {
      "text/plain": [
       "0.0010771992818671453"
      ]
     },
     "execution_count": 69,
     "metadata": {
      "tags": []
     },
     "output_type": "execute_result"
    }
   ],
   "source": [
    "3/2785"
   ]
  },
  {
   "cell_type": "code",
   "execution_count": null,
   "metadata": {
    "colab": {
     "base_uri": "https://localhost:8080/"
    },
    "id": "FFLXRGUSb55E",
    "outputId": "75a70d4f-bf26-4ee9-d4b1-5d958753383d"
   },
   "outputs": [
    {
     "data": {
      "text/plain": [
       "2.3078992227950412e-05"
      ]
     },
     "execution_count": 70,
     "metadata": {
      "tags": []
     },
     "output_type": "execute_result"
    }
   ],
   "source": [
    "29/len(dmoz)"
   ]
  },
  {
   "cell_type": "code",
   "execution_count": 103,
   "metadata": {
    "id": "t1jKu6BAcPiK"
   },
   "outputs": [
    {
     "name": "stdout",
     "output_type": "stream",
     "text": [
      "1 http://53fe93ee4b.000webhostapp.com/fh/SunTrustOnline-Zelle/Online/login/Data/6r2gfb6sfh6b14s6w546bh541tsw64b1hsw/1/1.html?%3C?php%20echo%20$negara.$z.$Anon.$x.$Isma.$z.$nama_negara;%20?%3E\n"
     ]
    }
   ],
   "source": [
    "count = 1\n",
    "for i in df['URL']:\n",
    "    if(\"%3C\" in i):\n",
    "        print(count, i)\n",
    "        count += 1"
   ]
  },
  {
   "cell_type": "code",
   "execution_count": 62,
   "metadata": {},
   "outputs": [
    {
     "data": {
      "text/html": [
       "<div>\n",
       "<style scoped>\n",
       "    .dataframe tbody tr th:only-of-type {\n",
       "        vertical-align: middle;\n",
       "    }\n",
       "\n",
       "    .dataframe tbody tr th {\n",
       "        vertical-align: top;\n",
       "    }\n",
       "\n",
       "    .dataframe thead th {\n",
       "        text-align: right;\n",
       "    }\n",
       "</style>\n",
       "<table border=\"1\" class=\"dataframe\">\n",
       "  <thead>\n",
       "    <tr style=\"text-align: right;\">\n",
       "      <th></th>\n",
       "      <th>Unnamed: 0</th>\n",
       "      <th>URL</th>\n",
       "      <th>Result</th>\n",
       "    </tr>\n",
       "  </thead>\n",
       "  <tbody>\n",
       "    <tr>\n",
       "      <th>0</th>\n",
       "      <td>0</td>\n",
       "      <td>1337x.to/torrent/1048648/American-Sniper-2014-...</td>\n",
       "      <td>0</td>\n",
       "    </tr>\n",
       "    <tr>\n",
       "      <th>1</th>\n",
       "      <td>1</td>\n",
       "      <td>1337x.to/torrent/1110018/Blackhat-2015-RUSSIAN...</td>\n",
       "      <td>0</td>\n",
       "    </tr>\n",
       "    <tr>\n",
       "      <th>2</th>\n",
       "      <td>2</td>\n",
       "      <td>1337x.to/torrent/1122940/Blackhat-2015-x264-10...</td>\n",
       "      <td>0</td>\n",
       "    </tr>\n",
       "    <tr>\n",
       "      <th>3</th>\n",
       "      <td>3</td>\n",
       "      <td>1337x.to/torrent/1124395/Fast-and-Furious-7-20...</td>\n",
       "      <td>0</td>\n",
       "    </tr>\n",
       "    <tr>\n",
       "      <th>4</th>\n",
       "      <td>4</td>\n",
       "      <td>1337x.to/torrent/1145504/Avengers-Age-of-Ultro...</td>\n",
       "      <td>0</td>\n",
       "    </tr>\n",
       "    <tr>\n",
       "      <th>...</th>\n",
       "      <td>...</td>\n",
       "      <td>...</td>\n",
       "      <td>...</td>\n",
       "    </tr>\n",
       "    <tr>\n",
       "      <th>295359</th>\n",
       "      <td>295359</td>\n",
       "      <td>data-account-update.com</td>\n",
       "      <td>1</td>\n",
       "    </tr>\n",
       "    <tr>\n",
       "      <th>295360</th>\n",
       "      <td>295360</td>\n",
       "      <td>eleanorteddie.ru</td>\n",
       "      <td>1</td>\n",
       "    </tr>\n",
       "    <tr>\n",
       "      <th>295361</th>\n",
       "      <td>295361</td>\n",
       "      <td>greatcareson.info</td>\n",
       "      <td>1</td>\n",
       "    </tr>\n",
       "    <tr>\n",
       "      <th>295362</th>\n",
       "      <td>295362</td>\n",
       "      <td>blowsfactor.info</td>\n",
       "      <td>1</td>\n",
       "    </tr>\n",
       "    <tr>\n",
       "      <th>295363</th>\n",
       "      <td>295363</td>\n",
       "      <td>toppharmacy02.su</td>\n",
       "      <td>1</td>\n",
       "    </tr>\n",
       "  </tbody>\n",
       "</table>\n",
       "<p>295364 rows × 3 columns</p>\n",
       "</div>"
      ],
      "text/plain": [
       "        Unnamed: 0                                                URL  Result\n",
       "0                0  1337x.to/torrent/1048648/American-Sniper-2014-...       0\n",
       "1                1  1337x.to/torrent/1110018/Blackhat-2015-RUSSIAN...       0\n",
       "2                2  1337x.to/torrent/1122940/Blackhat-2015-x264-10...       0\n",
       "3                3  1337x.to/torrent/1124395/Fast-and-Furious-7-20...       0\n",
       "4                4  1337x.to/torrent/1145504/Avengers-Age-of-Ultro...       0\n",
       "...            ...                                                ...     ...\n",
       "295359      295359                           data-account-update.com        1\n",
       "295360      295360                                  eleanorteddie.ru        1\n",
       "295361      295361                                 greatcareson.info        1\n",
       "295362      295362                                  blowsfactor.info        1\n",
       "295363      295363                                  toppharmacy02.su        1\n",
       "\n",
       "[295364 rows x 3 columns]"
      ]
     },
     "execution_count": 62,
     "metadata": {},
     "output_type": "execute_result"
    }
   ],
   "source": [
    "MAX_df = pd.read_csv(\"URL_dataset.csv\")\n",
    "MAX_df"
   ]
  },
  {
   "cell_type": "code",
   "execution_count": null,
   "metadata": {},
   "outputs": [],
   "source": []
  }
 ],
 "metadata": {
  "colab": {
   "collapsed_sections": [],
   "name": "Pre_Processing.ipynb",
   "provenance": [],
   "toc_visible": true
  },
  "kernelspec": {
   "display_name": "Python 3",
   "language": "python",
   "name": "python3"
  },
  "language_info": {
   "codemirror_mode": {
    "name": "ipython",
    "version": 3
   },
   "file_extension": ".py",
   "mimetype": "text/x-python",
   "name": "python",
   "nbconvert_exporter": "python",
   "pygments_lexer": "ipython3",
   "version": "3.8.10"
  }
 },
 "nbformat": 4,
 "nbformat_minor": 1
}
